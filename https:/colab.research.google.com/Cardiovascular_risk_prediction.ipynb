{
  "nbformat": 4,
  "nbformat_minor": 0,
  "metadata": {
    "colab": {
      "private_outputs": true,
      "provenance": [],
      "collapsed_sections": [
        "nA9Y7ga8ng1Z",
        "P97QSF0G541W",
        "g-ATYxFrGrvw",
        "Yfr_Vlr8HBkt",
        "8yEUt7NnHlrM",
        "tEA2Xm5dHt1r",
        "I79__PHVH19G",
        "Ou-I18pAyIpj",
        "fF3858GYyt-u",
        "4_0_7-oCpUZd",
        "hwyV_J3ipUZe",
        "3yB-zSqbpUZe",
        "dEUvejAfpUZe",
        "Fd15vwWVpUZf",
        "bn_IUdTipZyH",
        "49K5P_iCpZyH",
        "Nff-vKELpZyI",
        "kLW572S8pZyI",
        "dWbDXHzopZyI",
        "xiyOF9F70UgQ",
        "7wuGOrhz0itI",
        "id1riN9m0vUs",
        "578E2V7j08f6",
        "89xtkJwZ18nB",
        "67NQN5KX2AMe",
        "Iwf50b-R2tYG",
        "GMQiZwjn3iu7",
        "WVIkgGqN3qsr",
        "XkPnILGE3zoT",
        "Hlsf0x5436Go",
        "mT9DMSJo4nBL",
        "c49ITxTc407N",
        "OeJFEK0N496M",
        "9ExmJH0g5HBk",
        "cJNqERVU536h",
        "k5UmGsbsOxih",
        "T0VqWOYE6DLQ",
        "qBMux9mC6MCf",
        "-oLEiFgy-5Pf",
        "C74aWNz2AliB",
        "2DejudWSA-a0",
        "pEMng2IbBLp7",
        "rAdphbQ9Bhjc",
        "TNVZ9zx19K6k",
        "nqoHp30x9hH9",
        "rMDnDkt2B6du",
        "yiiVWRdJDDil",
        "1UUpS68QDMuG",
        "kexQrXU-DjzY",
        "T5CmagL3EC8N",
        "qjKvONjwE8ra",
        "P1XJ9OREExlT",
        "VFOzZv6IFROw",
        "TIqpNgepFxVj",
        "4qY1EAkEfxKe",
        "PiV4Ypx8fxKe",
        "TfvqoZmBfxKf",
        "HAih1iBOpsJ2",
        "zVGeBEFhpsJ2",
        "bmKjuQ-FpsJ3",
        "Fze-IPXLpx6K",
        "_-qAgymDpx6N",
        "Z-hykwinpx6N",
        "h_CCil-SKHpo",
        "cBFFvTBNJzUa",
        "HvGl1hHyA_VK",
        "EyNgTHvd2WFk",
        "KH5McJBi2d8v",
        "iW_Lq9qf2h6X",
        "-Kee-DAl2viO",
        "gCX9965dhzqZ",
        "gIfDvo9L0UH2"
      ]
    },
    "kernelspec": {
      "name": "python3",
      "display_name": "Python 3"
    },
    "language_info": {
      "name": "python"
    }
  },
  "cells": [
    {
      "cell_type": "markdown",
      "source": [
        "# **Project Name**    - Cardiovascular risk prediction\n",
        "\n",
        "\n"
      ],
      "metadata": {
        "id": "vncDsAP0Gaoa"
      }
    },
    {
      "cell_type": "markdown",
      "source": [
        "##### **Project Type**    - Classification\n",
        "##### **Contribution**    - Individual\n",
        "##### **Team Member 1 -** Amit M. Adhaye\n",
        "##### **Team Member 2 -**\n",
        "##### **Team Member 3 -**\n",
        "##### **Team Member 4 -**"
      ],
      "metadata": {
        "id": "beRrZCGUAJYm"
      }
    },
    {
      "cell_type": "markdown",
      "source": [
        "# **Project Summary -**"
      ],
      "metadata": {
        "id": "FJNUwmbgGyua"
      }
    },
    {
      "cell_type": "markdown",
      "source": [
        "The dataset is from an ongoing cardiovascular study on residents of the town of Framingham, Massachusetts. The classification goal is to predict whether the patient has a 10-year risk of future coronary heart disease (CHD). The dataset provides the patients’ information. It includes over 3390 records and 15 attributes. Each attribute is a potential risk factor. There are both demographic behavioral, and medical risk factors.Supervised machine learning model using cross-validation and hyper-parameter tuning is tested successfully for predicting the stock closing price of Yes Bank. The stepwise process includes importing required libraries, reading the data, exploring the data, statistical evaluation, Data cleaning, EDA, Data wrangling, data visualization, defining the features etc., Above process is followed for identifying the solution to the problem of predicting the ten-year coronary heart disease (CHD). The Logistic regression, decision tree and random forest models are implemented successfully. The performance matrix reflects the efficiency of model."
      ],
      "metadata": {
        "id": "F6v_1wHtG2nS"
      }
    },
    {
      "cell_type": "markdown",
      "source": [
        "# **GitHub Link -**"
      ],
      "metadata": {
        "id": "w6K7xa23Elo4"
      }
    },
    {
      "cell_type": "markdown",
      "source": [
        "Provide your GitHub Link here."
      ],
      "metadata": {
        "id": "h1o69JH3Eqqn"
      }
    },
    {
      "cell_type": "markdown",
      "source": [
        "# **Problem Statement**\n"
      ],
      "metadata": {
        "id": "yQaldy8SH6Dl"
      }
    },
    {
      "cell_type": "markdown",
      "source": [
        "**The dataset is from an ongoing cardiovascular study on residents of the town of Framingham, Massachusetts. The classification goal is to predict whether the patient has a 10-year risk of future coronary heart disease (CHD). The dataset provides the patients’ information. It includes over 3390 records and 15 attributes. Each attribute is a potential risk factor. There are both demographic behavioral, and medical risk factors.**"
      ],
      "metadata": {
        "id": "DpeJGUA3kjGy"
      }
    },
    {
      "cell_type": "markdown",
      "source": [
        "# **General Guidelines** : -  "
      ],
      "metadata": {
        "id": "mDgbUHAGgjLW"
      }
    },
    {
      "cell_type": "markdown",
      "source": [
        "1.   Well-structured, formatted, and commented code is required. \n",
        "2.   Exception Handling, Production Grade Code & Deployment Ready Code will be a plus. Those students will be awarded some additional credits. \n",
        "     \n",
        "     The additional credits will have advantages over other students during Star Student selection.\n",
        "       \n",
        "             [ Note: - Deployment Ready Code is defined as, the whole .ipynb notebook should be executable in one go\n",
        "                       without a single error logged. ]\n",
        "\n",
        "3.   Each and every logic should have proper comments.\n",
        "4. You may add as many number of charts you want. Make Sure for each and every chart the following format should be answered.\n",
        "        \n",
        "\n",
        "```\n",
        "# Chart visualization code\n",
        "```\n",
        "            \n",
        "\n",
        "*   Why did you pick the specific chart?\n",
        "*   What is/are the insight(s) found from the chart?\n",
        "* Will the gained insights help creating a positive business impact? \n",
        "Are there any insights that lead to negative growth? Justify with specific reason.\n",
        "\n",
        "5. You have to create at least 15 logical & meaningful charts having important insights.\n",
        "\n",
        "\n",
        "[ Hints : - Do the Vizualization in  a structured way while following \"UBM\" Rule. \n",
        "\n",
        "U - Univariate Analysis,\n",
        "\n",
        "B - Bivariate Analysis (Numerical - Categorical, Numerical - Numerical, Categorical - Categorical)\n",
        "\n",
        "M - Multivariate Analysis\n",
        " ]\n",
        "\n",
        "\n",
        "\n",
        "\n",
        "\n",
        "6. You may add more ml algorithms for model creation. Make sure for each and every algorithm, the following format should be answered.\n",
        "\n",
        "\n",
        "*   Explain the ML Model used and it's performance using Evaluation metric Score Chart.\n",
        "\n",
        "\n",
        "*   Cross- Validation & Hyperparameter Tuning\n",
        "\n",
        "*   Have you seen any improvement? Note down the improvement with updates Evaluation metric Score Chart.\n",
        "\n",
        "*   Explain each evaluation metric's indication towards business and the business impact pf the ML model used.\n",
        "\n",
        "\n",
        "\n",
        "\n",
        "\n",
        "\n",
        "\n",
        "\n",
        "\n",
        "\n",
        "\n",
        "\n",
        "\n",
        "\n",
        "\n",
        "\n",
        "\n",
        "\n"
      ],
      "metadata": {
        "id": "ZrxVaUj-hHfC"
      }
    },
    {
      "cell_type": "markdown",
      "source": [
        "# ***Let's Begin !***"
      ],
      "metadata": {
        "id": "O_i_v8NEhb9l"
      }
    },
    {
      "cell_type": "markdown",
      "source": [
        "## ***1. Know Your Data***"
      ],
      "metadata": {
        "id": "HhfV-JJviCcP"
      }
    },
    {
      "cell_type": "markdown",
      "source": [
        "### Import Libraries"
      ],
      "metadata": {
        "id": "Y3lxredqlCYt"
      }
    },
    {
      "cell_type": "code",
      "source": [
        "# Import Libraries\n",
        "import pandas as pd\n",
        "import numpy as np\n",
        "import matplotlib.pyplot as plt\n",
        "plt.style.use('ggplot')\n",
        "import seaborn as sns\n",
        "import warnings\n",
        "warnings.filterwarnings('ignore')\n",
        "\n",
        "from sklearn.preprocessing import LabelEncoder\n",
        "from sklearn.tree import DecisionTreeClassifier, export_graphviz\n",
        "from sklearn import tree\n",
        "from IPython.display import SVG\n",
        "from graphviz import Source\n",
        "from IPython.display import display\n",
        "from sklearn.ensemble import RandomForestClassifier\n",
        "from sklearn.ensemble import GradientBoostingClassifier\n",
        "from sklearn.model_selection import GridSearchCV\n",
        "from sklearn.metrics import roc_auc_score, confusion_matrix, accuracy_score, roc_curve\n",
        "from sklearn.neighbors import KNeighborsClassifier\n",
        "from sklearn.svm import SVC"
      ],
      "metadata": {
        "id": "M8Vqi-pPk-HR"
      },
      "execution_count": null,
      "outputs": []
    },
    {
      "cell_type": "markdown",
      "source": [
        "### Dataset Loading"
      ],
      "metadata": {
        "id": "3RnN4peoiCZX"
      }
    },
    {
      "cell_type": "code",
      "source": [
        "# Load Dataset\n",
        "from google.colab import files\n",
        "uploaded = files.upload()"
      ],
      "metadata": {
        "id": "4CkvbW_SlZ_R"
      },
      "execution_count": null,
      "outputs": []
    },
    {
      "cell_type": "code",
      "source": [
        "import io\n",
        "df = pd.read_csv(io.BytesIO(uploaded['data_cardiovascular_risk.csv']))"
      ],
      "metadata": {
        "id": "p9AVfl88nacZ"
      },
      "execution_count": null,
      "outputs": []
    },
    {
      "cell_type": "markdown",
      "source": [
        "### Dataset First View"
      ],
      "metadata": {
        "id": "x71ZqKXriCWQ"
      }
    },
    {
      "cell_type": "code",
      "source": [
        "# Dataset First Look\n",
        "df = pd.read_csv('data_cardiovascular_risk.csv')\n",
        "df.head()"
      ],
      "metadata": {
        "id": "LWNFOSvLl09H"
      },
      "execution_count": null,
      "outputs": []
    },
    {
      "cell_type": "markdown",
      "source": [
        "### Dataset Rows & Columns count"
      ],
      "metadata": {
        "id": "7hBIi_osiCS2"
      }
    },
    {
      "cell_type": "code",
      "source": [
        "# Dataset Rows & Columns count\n",
        "df.shape"
      ],
      "metadata": {
        "id": "Kllu7SJgmLij"
      },
      "execution_count": null,
      "outputs": []
    },
    {
      "cell_type": "markdown",
      "source": [
        "### Dataset Information"
      ],
      "metadata": {
        "id": "JlHwYmJAmNHm"
      }
    },
    {
      "cell_type": "code",
      "source": [
        "# Dataset Info\n",
        "df.info()"
      ],
      "metadata": {
        "id": "e9hRXRi6meOf"
      },
      "execution_count": null,
      "outputs": []
    },
    {
      "cell_type": "markdown",
      "source": [
        "#### Duplicate Values"
      ],
      "metadata": {
        "id": "35m5QtbWiB9F"
      }
    },
    {
      "cell_type": "code",
      "source": [
        "# Dataset Duplicate Value Count\n",
        "len(df[df.duplicated()])"
      ],
      "metadata": {
        "id": "1sLdpKYkmox0"
      },
      "execution_count": null,
      "outputs": []
    },
    {
      "cell_type": "markdown",
      "source": [
        "#### Missing Values/Null Values"
      ],
      "metadata": {
        "id": "PoPl-ycgm1ru"
      }
    },
    {
      "cell_type": "code",
      "source": [
        "# Missing Values/Null Values Count\n",
        "df.isnull().sum()"
      ],
      "metadata": {
        "id": "GgHWkxvamxVg"
      },
      "execution_count": null,
      "outputs": []
    },
    {
      "cell_type": "markdown",
      "source": [
        "Few of the columns has missing values. These columns has different forms of data such as character, integer etc. Thus they have to be dealt seperately."
      ],
      "metadata": {
        "id": "R4AxHGUPFttD"
      }
    },
    {
      "cell_type": "code",
      "source": [
        "# Make a copy of orinal data before altering the data \n",
        "df_1=df.copy()"
      ],
      "metadata": {
        "id": "aqq0688TqATP"
      },
      "execution_count": null,
      "outputs": []
    },
    {
      "cell_type": "code",
      "source": [
        "# Visualizing the missing values\n",
        "plt.figure(figsize=(10,6))\n",
        "sns.displot(\n",
        "    data=df_1.isna().melt(value_name=\"missing\"),\n",
        "    y=\"variable\",\n",
        "    hue=\"missing\",\n",
        "    multiple=\"fill\",\n",
        "    aspect=1.25\n",
        ")\n",
        "plt.savefig(\"visualizing_missing_data_with_barplot_Seaborn_distplot.png\", dpi=100)"
      ],
      "metadata": {
        "id": "JJoblYNd1BD8"
      },
      "execution_count": null,
      "outputs": []
    },
    {
      "cell_type": "code",
      "source": [
        "# Visualizing the missing values\n",
        "# Missing Value Count Function\n",
        "def show_missing():\n",
        "    missing = df_1.columns[df_1.isnull().any()].tolist()\n",
        "    return missing\n",
        "# Missing data counts and percentage\n",
        "print('Missing Data Count')\n",
        "print(df_1[show_missing()].isnull().sum().sort_values(ascending = False))\n",
        "print('--'*50)\n",
        "print('Missing Data Percentage')\n",
        "print(round(df_1[show_missing()].isnull().sum().sort_values(ascending = False)/len(df_1)*100,2))"
      ],
      "metadata": {
        "id": "68ZfoQIoJ2gr"
      },
      "execution_count": null,
      "outputs": []
    },
    {
      "cell_type": "code",
      "source": [
        "round(df_1[show_missing()].isnull().sum().sort_values(ascending = False)/len(df_1)*100,2).plot(kind='bar', color=['red', 'yellow', 'blue', 'orange'])\n"
      ],
      "metadata": {
        "id": "rPMkUhfgKZFy"
      },
      "execution_count": null,
      "outputs": []
    },
    {
      "cell_type": "markdown",
      "source": [
        "### What did you know about your dataset?"
      ],
      "metadata": {
        "id": "H0kj-8xxnORC"
      }
    },
    {
      "cell_type": "markdown",
      "source": [
        "Data Description\n",
        "\n",
        "> Demographic:\n",
        "* Sex: male or female(\"M\" or \"F\")\n",
        "* Age: Age of the patient;(Continuous - Although the recorded ages have been truncated to whole numbers, the concept of age is continuous) Behavioral\n",
        "* Is_smoking: whether or not the patient is a current smoker (\"YES\" or \"NO\")\n",
        "* Cigs Per Day: the number of cigarettes that the person smoked on \n",
        "average in one day.(can be considered continuous as one can have any number of cigarettes, even half a cigarette.) Medical( history)\n",
        "* BP Meds: whether or not the patient was on blood pressure medication (Nominal)\n",
        "* Prevalent Stroke: whether or not the patient had previously had a stroke (Nominal)\n",
        "* Prevalent Hyp: whether or not the patient was hypertensive (Nominal)\n",
        "* Diabetes: whether or not the patient had diabetes (Nominal) Medical(current)\n",
        "* Tot Chol: total cholesterol level (Continuous)\n",
        "* Sys BP: systolic blood pressure (Continuous)\n",
        "* Dia BP: diastolic blood pressure (Continuous)\n",
        "* BMI: Body Mass Index (Continuous)\n",
        "* Heart Rate: heart rate (Continuous - In medical research, variables such as heart rate though in fact discrete, yet are considered continuous because of large number of possible values.)\n",
        "* Glucose: glucose level (Continuous) Predict variable (desired target)\n",
        "10-year risk of coronary heart disease CHD(binary: “1”, means “Yes”, “0” means “No”) - DV"
      ],
      "metadata": {
        "id": "gfoNAAC-nUe_"
      }
    },
    {
      "cell_type": "markdown",
      "source": [
        "## ***2. Understanding Your Variables***"
      ],
      "metadata": {
        "id": "nA9Y7ga8ng1Z"
      }
    },
    {
      "cell_type": "markdown",
      "source": [
        "Each attribute is a potential risk factor. There are both demographic behavioral, and medical risk factors."
      ],
      "metadata": {
        "id": "x0xIJDzuNjKk"
      }
    },
    {
      "cell_type": "code",
      "source": [
        "# Dataset Columns\n",
        "df.columns"
      ],
      "metadata": {
        "id": "j7xfkqrt5Ag5"
      },
      "execution_count": null,
      "outputs": []
    },
    {
      "cell_type": "code",
      "source": [
        "df.head()"
      ],
      "metadata": {
        "id": "GJx0lkjHjfu8"
      },
      "execution_count": null,
      "outputs": []
    },
    {
      "cell_type": "code",
      "source": [
        "def modified_sex(row):\n",
        "  if (row['sex'] =='M'):\n",
        "    val = 0\n",
        "  elif (row['sex']=='F'):\n",
        "    val = 1\n",
        "  else:\n",
        "    val = -1\n",
        "  \n",
        "  return val"
      ],
      "metadata": {
        "id": "CdVidSF8SB6k"
      },
      "execution_count": null,
      "outputs": []
    },
    {
      "cell_type": "code",
      "source": [
        "df_1['modified_sex'] = df_1.apply(modified_sex,axis = 1)"
      ],
      "metadata": {
        "id": "Ckm2YeY-leji"
      },
      "execution_count": null,
      "outputs": []
    },
    {
      "cell_type": "code",
      "source": [
        "df_1['modified_sex'].value_counts()"
      ],
      "metadata": {
        "id": "bpBFlbRWlfNL"
      },
      "execution_count": null,
      "outputs": []
    },
    {
      "cell_type": "code",
      "source": [
        "def modified_is_smoking(row):\n",
        "  if (row['is_smoking'] =='NO'):\n",
        "    val = 0\n",
        "  elif (row['is_smoking']=='YES'):\n",
        "    val = 1\n",
        "  else:\n",
        "    val = -1\n",
        "  \n",
        "  return val"
      ],
      "metadata": {
        "id": "zAATpHqShjtO"
      },
      "execution_count": null,
      "outputs": []
    },
    {
      "cell_type": "code",
      "source": [
        "df_1['modified_is_smoking'] = df_1.apply(modified_is_smoking,axis = 1)"
      ],
      "metadata": {
        "id": "PUxhvPIkgD8V"
      },
      "execution_count": null,
      "outputs": []
    },
    {
      "cell_type": "code",
      "source": [
        "df_1['modified_is_smoking'].value_counts()"
      ],
      "metadata": {
        "id": "y_TRcpL4gw4o"
      },
      "execution_count": null,
      "outputs": []
    },
    {
      "cell_type": "code",
      "source": [
        "df_1.drop('sex',axis = 1, inplace=True)\n",
        "df_1.drop('is_smoking',axis = 1, inplace=True)"
      ],
      "metadata": {
        "id": "z9fpLHR0jBUf"
      },
      "execution_count": null,
      "outputs": []
    },
    {
      "cell_type": "code",
      "source": [
        "df_1.head()"
      ],
      "metadata": {
        "id": "xONF45jgjSvz"
      },
      "execution_count": null,
      "outputs": []
    },
    {
      "cell_type": "code",
      "source": [
        "# Dataset Describe\n",
        "df_1.describe(include='all')"
      ],
      "metadata": {
        "id": "DnOaZdaE5Q5t"
      },
      "execution_count": null,
      "outputs": []
    },
    {
      "cell_type": "markdown",
      "source": [
        "### Variables Description "
      ],
      "metadata": {
        "id": "PBTbrJXOngz2"
      }
    },
    {
      "cell_type": "markdown",
      "source": [
        "Demographic:\n",
        "* Sex: male or female(\"M\" or \"F\")\n",
        "* Age: Age of the patient;(Continuous - Although the recorded ages have been truncated to whole numbers, the concept of age is continuous) Behavioral\n",
        "* Is_smoking: whether or not the patient is a current smoker (\"YES\" or \"NO\")\n",
        "* Cigs Per Day: the number of cigarettes that the person smoked on average in one day.(can be considered continuous as one can have any number of cigarettes, even half a cigarette.) Medical( history)\n",
        "* BP Meds: whether or not the patient was on blood pressure medication (Nominal)\n",
        "* Prevalent Stroke: whether or not the patient had previously had a stroke (Nominal)\n",
        "* Prevalent Hyp: whether or not the patient was hypertensive (Nominal)\n",
        "* Diabetes: whether or not the patient had diabetes (Nominal) Medical(current)\n",
        "* Tot Chol: total cholesterol level (Continuous)\n",
        "* Tot Chol: total cholesterol level (Continuous)\n",
        "* Sys BP: systolic blood pressure (Continuous)\n",
        "* Dia BP: diastolic blood pressure (Continuous)\n",
        "* BMI: Body Mass Index (Continuous)\n",
        "* Heart Rate: heart rate (Continuous - In medical research, variables such as heart rate though in fact discrete, yet are considered continuous because of large number of possible values.)\n",
        "* Glucose: glucose level (Continuous) Predict variable (desired target) 10-year risk of coronary heart disease CHD(binary: “1”, means “Yes”, “0” means “No”) - DV"
      ],
      "metadata": {
        "id": "aJV4KIxSnxay"
      }
    },
    {
      "cell_type": "markdown",
      "source": [
        "### Check Unique Values for each variable."
      ],
      "metadata": {
        "id": "u3PMJOP6ngxN"
      }
    },
    {
      "cell_type": "code",
      "source": [
        "# Check Unique Values for each variable.\n",
        "df['age'].unique  \n",
        "#'is_smoking', 'cigsPerDay', 'BPMeds','prevalentStroke', 'prevalentHyp', 'diabetes', 'totChol', 'sysBP','diaBP', 'BMI', 'heartRate', 'glucose', 'TenYearCHD'].unique"
      ],
      "metadata": {
        "id": "zms12Yq5n-jE"
      },
      "execution_count": null,
      "outputs": []
    },
    {
      "cell_type": "markdown",
      "source": [
        "## ***3. Data Wrangling***\n",
        "### Data Wrangling Code"
      ],
      "metadata": {
        "id": "P97QSF0G541W"
      }
    },
    {
      "cell_type": "markdown",
      "source": [
        "**Glucose**\n",
        "\n",
        "In the following column mean and median are nearby. we are using median values for filling the missing values."
      ],
      "metadata": {
        "id": "ZRw98JUk7OBf"
      }
    },
    {
      "cell_type": "code",
      "source": [
        "df_1['glucose'].describe()"
      ],
      "metadata": {
        "id": "FxCnKhMz7RPj"
      },
      "execution_count": null,
      "outputs": []
    },
    {
      "cell_type": "code",
      "source": [
        "print('Glucose Feature Missing Before')\n",
        "print(df_1[['glucose']].isnull().sum())\n",
        "print('--'*50)\n",
        "df_1['glucose']=df_1['glucose'].fillna(df['glucose'].median())\n",
        "print('Glucose Feature Missing After')\n",
        "print(df_1[['glucose']].isnull().sum())\n",
        "print('--'*50)"
      ],
      "metadata": {
        "id": "iz7ZfWx_7mU-"
      },
      "execution_count": null,
      "outputs": []
    },
    {
      "cell_type": "markdown",
      "source": [
        "**Education**"
      ],
      "metadata": {
        "id": "rXRSYIeo8TPq"
      }
    },
    {
      "cell_type": "code",
      "source": [
        "df_1['education'].describe()"
      ],
      "metadata": {
        "id": "JyGRGZPr8gK0"
      },
      "execution_count": null,
      "outputs": []
    },
    {
      "cell_type": "code",
      "source": [
        "df_1['education'].unique()"
      ],
      "metadata": {
        "id": "VfdjyNcb8hsW"
      },
      "execution_count": null,
      "outputs": []
    },
    {
      "cell_type": "markdown",
      "source": [
        "Education feature is not a continues variable so we using Mode for filling the missing values."
      ],
      "metadata": {
        "id": "PQCrlB9k8uFz"
      }
    },
    {
      "cell_type": "code",
      "source": [
        "print('Education Feature Missing Before')\n",
        "print(df_1[['education']].isnull().sum())\n",
        "print('--'*50)\n",
        "df_1['education']=df_1['education'].fillna(df['education'].mode()[0])\n",
        "print('Education Feature Missing After')\n",
        "print(df_1[['education']].isnull().sum())\n",
        "print('--'*50)"
      ],
      "metadata": {
        "id": "_IL49eJT8q5Q"
      },
      "execution_count": null,
      "outputs": []
    },
    {
      "cell_type": "markdown",
      "source": [
        "**BP Meds**"
      ],
      "metadata": {
        "id": "IX61zfjz9ABW"
      }
    },
    {
      "cell_type": "code",
      "source": [
        "df_1['BPMeds'].describe()"
      ],
      "metadata": {
        "id": "IQP4sRXh9EQ9"
      },
      "execution_count": null,
      "outputs": []
    },
    {
      "cell_type": "code",
      "source": [
        "df_1['BPMeds'].unique()"
      ],
      "metadata": {
        "id": "LfA9HRCL9GGl"
      },
      "execution_count": null,
      "outputs": []
    },
    {
      "cell_type": "code",
      "source": [
        "print('BPMeds Feature Missing Before')\n",
        "print(df_1[['BPMeds']].isnull().sum())\n",
        "print('--'*50)\n",
        "df_1['BPMeds']=df_1['BPMeds'].fillna(df['BPMeds'].mode()[0])\n",
        "print('BPMeds Feature Missing After')\n",
        "print(df_1[['BPMeds']].isnull().sum())\n",
        "print('--'*50)"
      ],
      "metadata": {
        "id": "JAxYSln_9OIf"
      },
      "execution_count": null,
      "outputs": []
    },
    {
      "cell_type": "markdown",
      "source": [
        "**Total Cholesterol**"
      ],
      "metadata": {
        "id": "C6LIZMGn9dWt"
      }
    },
    {
      "cell_type": "code",
      "source": [
        "df_1['totChol'].describe()"
      ],
      "metadata": {
        "id": "afEwzNjp9ipe"
      },
      "execution_count": null,
      "outputs": []
    },
    {
      "cell_type": "code",
      "source": [
        "print('Total colostrol Feature Missing Before')\n",
        "print(df_1[['totChol']].isnull().sum())\n",
        "print('--'*50)\n",
        "df_1['totChol']=df_1['totChol'].fillna(df['totChol'].median())\n",
        "print('Total colostrol Feature Missing After')\n",
        "print(df_1[['totChol']].isnull().sum())\n",
        "print('--'*50)"
      ],
      "metadata": {
        "id": "Kv_qHm379kuP"
      },
      "execution_count": null,
      "outputs": []
    },
    {
      "cell_type": "markdown",
      "source": [
        "**Cigarets per day**"
      ],
      "metadata": {
        "id": "g0zA8PCk90IO"
      }
    },
    {
      "cell_type": "code",
      "source": [
        "df_1['cigsPerDay'].describe()"
      ],
      "metadata": {
        "id": "qcmbVs6y-BcV"
      },
      "execution_count": null,
      "outputs": []
    },
    {
      "cell_type": "code",
      "source": [
        "print('Cigarets per day Feature Missing Before')\n",
        "print(df_1[['cigsPerDay']].isnull().sum())\n",
        "print('--'*50)\n",
        "df_1['cigsPerDay']=df_1['cigsPerDay'].fillna(df['cigsPerDay'].median())\n",
        "print('Cigars per day Feature Missing After')\n",
        "print(df_1[['cigsPerDay']].isnull().sum())\n",
        "print('--'*50)"
      ],
      "metadata": {
        "id": "Le3cDKel-Dh1"
      },
      "execution_count": null,
      "outputs": []
    },
    {
      "cell_type": "markdown",
      "source": [
        "**Body Mass Index**"
      ],
      "metadata": {
        "id": "TxXly67U-V-e"
      }
    },
    {
      "cell_type": "code",
      "source": [
        "df_1['BMI'].describe()"
      ],
      "metadata": {
        "id": "rtREp7VD-aFv"
      },
      "execution_count": null,
      "outputs": []
    },
    {
      "cell_type": "code",
      "source": [
        "print('BMI Feature Missing Before')\n",
        "print(df_1[['BMI']].isnull().sum())\n",
        "print('--'*50)\n",
        "df_1['BMI']=df_1['BMI'].fillna(df['BMI'].median())\n",
        "print('BMI Feature Missing After')\n",
        "print(df_1[['BMI']].isnull().sum())\n",
        "print('--'*50)"
      ],
      "metadata": {
        "id": "DoVF7j5q-kgG"
      },
      "execution_count": null,
      "outputs": []
    },
    {
      "cell_type": "markdown",
      "source": [
        "**Heart Rate**"
      ],
      "metadata": {
        "id": "CuW6WmH7-yjf"
      }
    },
    {
      "cell_type": "code",
      "source": [
        "df_1['heartRate'].describe()"
      ],
      "metadata": {
        "id": "uNDv9BUh-2tg"
      },
      "execution_count": null,
      "outputs": []
    },
    {
      "cell_type": "code",
      "source": [
        "print('Heart Rate Feature Missing Before')\n",
        "print(df_1[['heartRate']].isnull().sum())\n",
        "print('--'*50)\n",
        "df_1['heartRate']=df_1['heartRate'].fillna(df['heartRate'].median())\n",
        "print('Heart Rate Feature Missing After')\n",
        "print(df_1[['heartRate']].isnull().sum())\n",
        "print('--'*50)"
      ],
      "metadata": {
        "id": "ZVuTIMAY-6yA"
      },
      "execution_count": null,
      "outputs": []
    },
    {
      "cell_type": "markdown",
      "source": [
        "## **4**. ***Data Vizualization, Storytelling & Experimenting with charts : Understand the relationships between variables***"
      ],
      "metadata": {
        "id": "dauF4eBmngu3"
      }
    },
    {
      "cell_type": "markdown",
      "source": [
        "### EDA Code"
      ],
      "metadata": {
        "id": "bKJF3rekwFvQ"
      }
    },
    {
      "cell_type": "markdown",
      "source": [
        "**Chart-1: Age**\n",
        "> Data contains people of age from 32-70 years. People are effected to cardivasucular diseases from 35"
      ],
      "metadata": {
        "id": "ZYM9tn4k_hgz"
      }
    },
    {
      "cell_type": "code",
      "source": [
        "fig, ax = plt.subplots(figsize=(15,6))\n",
        "age_dis=pd.DataFrame(df_1.groupby(['age'])['id'].count())\n",
        "sns.barplot(x=age_dis.index,y=age_dis['id'])\n",
        "plt.ylabel('Counts')\n",
        "plt.title('Age Distrubution')"
      ],
      "metadata": {
        "id": "faLyEHtQ_5nJ"
      },
      "execution_count": null,
      "outputs": []
    },
    {
      "cell_type": "markdown",
      "source": [
        "##### Bivariate analysis of age and Ten year CHD"
      ],
      "metadata": {
        "id": "CspZv8Y3ltSs"
      }
    },
    {
      "cell_type": "code",
      "source": [
        "plt.rcParams['figure.figsize'] = (15, 5)\n",
        "df_1.groupby(['age','TenYearCHD'])['id'].count().unstack().plot(kind='bar')\n",
        "plt.title('Age wise Effected People')"
      ],
      "metadata": {
        "id": "gvvmZFHzAvwW"
      },
      "execution_count": null,
      "outputs": []
    },
    {
      "cell_type": "markdown",
      "source": [
        "##### Multivariate analysis of age, sex,and Ten year CHD"
      ],
      "metadata": {
        "id": "V7JjHhCflc_u"
      }
    },
    {
      "cell_type": "code",
      "source": [
        "plt.rcParams['figure.figsize'] = (20, 5)\n",
        "df_1.groupby(['age','modified_sex'])['TenYearCHD'].count().unstack().plot(kind='bar')"
      ],
      "metadata": {
        "id": "ALCBl8VtBbov"
      },
      "execution_count": null,
      "outputs": []
    },
    {
      "cell_type": "markdown",
      "source": [
        "\n",
        "#####1. Why did you pick the specific chart?"
      ],
      "metadata": {
        "id": "iz4PDyJz89x2"
      }
    },
    {
      "cell_type": "markdown",
      "source": [
        "To present the univariate, biavariate and multivariate analysis of age, sex on CHD."
      ],
      "metadata": {
        "id": "sHuJFSrV9FI0"
      }
    },
    {
      "cell_type": "markdown",
      "source": [
        "#####2. What is/are the insight(s) found from the chart?\n"
      ],
      "metadata": {
        "id": "Djt28OOI9INw"
      }
    },
    {
      "cell_type": "markdown",
      "source": [
        "It is observed that people are effected by cardivasucular diseases after the age 35. The relationship of age, gender on CHD can be viewed."
      ],
      "metadata": {
        "id": "pXntuCwb9LP1"
      }
    },
    {
      "cell_type": "markdown",
      "source": [
        "#####3. Will the gained insights help creating a positive business impact?\n",
        "Are there any insights that lead to negative growth? Justify with specific reason."
      ],
      "metadata": {
        "id": "LUZq3Mjc9OZ9"
      }
    },
    {
      "cell_type": "markdown",
      "source": [
        "This analysis helps to identify the age group and gender combination prone to CHD and implement interventions to minimize the risk."
      ],
      "metadata": {
        "id": "531PwatW9QXk"
      }
    },
    {
      "cell_type": "markdown",
      "source": [
        "**Chart-2: Education**"
      ],
      "metadata": {
        "id": "HU-NM5U3Brhe"
      }
    },
    {
      "cell_type": "markdown",
      "source": [],
      "metadata": {
        "id": "2M_kElxH64YH"
      }
    },
    {
      "cell_type": "code",
      "source": [
        "df_1.groupby(['education'])['id'].count()"
      ],
      "metadata": {
        "id": "upCVD9u5Bi4Y"
      },
      "execution_count": null,
      "outputs": []
    },
    {
      "cell_type": "code",
      "source": [
        "fig, ax = plt.subplots(1,2,figsize=(15,5))\n",
        "ax1=plt.subplot(1,2,1)\n",
        "Education_status=pd.DataFrame(df_1.groupby(['education'])['id'].count())\n",
        "sns.barplot(x=Education_status.index,y=Education_status['id'])\n",
        "plt.xlabel('Education')\n",
        "plt.ylabel('Counts')\n",
        "plt.title('Season Distribution in year')\n",
        "ax2=plt.subplot(1,2,2)\n",
        "df_1.groupby(['education'])['id'].count().plot(kind='pie')\n",
        "plt.title('Education Proportionate')"
      ],
      "metadata": {
        "id": "ZJwRz7OFByFW"
      },
      "execution_count": null,
      "outputs": []
    },
    {
      "cell_type": "code",
      "source": [
        "plt.rcParams['figure.figsize'] = (10, 5)\n",
        "df_1.groupby(['education','TenYearCHD'])['id'].count().unstack().plot(kind='bar')\n",
        "plt.title('Education with Ten years CHD')"
      ],
      "metadata": {
        "id": "ruRwhJqwCGQW"
      },
      "execution_count": null,
      "outputs": []
    },
    {
      "cell_type": "markdown",
      "source": [
        "#####1. Why did you pick the specific chart?"
      ],
      "metadata": {
        "id": "Qajf94a6_OVN"
      }
    },
    {
      "cell_type": "markdown",
      "source": [
        "To present the effect of education on CHD."
      ],
      "metadata": {
        "id": "hsyrtn3S_PZE"
      }
    },
    {
      "cell_type": "markdown",
      "source": [
        "#####2. What is/are the insight(s) found from the chart?"
      ],
      "metadata": {
        "id": "Dy83_zEl_SPb"
      }
    },
    {
      "cell_type": "markdown",
      "source": [
        "The proportion of population dicreases as the education level increases."
      ],
      "metadata": {
        "id": "HM3Lhwb__VD0"
      }
    },
    {
      "cell_type": "markdown",
      "source": [
        "#####3. Will the gained insights help creating a positive business impact?\n",
        "Are there any insights that lead to negative growth? Justify with specific reason."
      ],
      "metadata": {
        "id": "mM7OIb6y_hFL"
      }
    },
    {
      "cell_type": "markdown",
      "source": [
        "The results suggest to impart the education for minimizing the risk of CHD."
      ],
      "metadata": {
        "id": "kBpF3e3l_iKL"
      }
    },
    {
      "cell_type": "markdown",
      "source": [
        "**Chart-3: Sex**"
      ],
      "metadata": {
        "id": "7JPC6TyuCVcU"
      }
    },
    {
      "cell_type": "code",
      "source": [
        "df_1.groupby(['modified_sex'])['id'].count()"
      ],
      "metadata": {
        "id": "65fjJg-KCPNu"
      },
      "execution_count": null,
      "outputs": []
    },
    {
      "cell_type": "code",
      "source": [
        "fig, ax = plt.subplots(1,2,figsize=(15,5))\n",
        "ax1=plt.subplot(1,2,1)\n",
        "Education_status=pd.DataFrame(df_1.groupby(['modified_sex'])['id'].count())\n",
        "sns.barplot(x=Education_status.index,y=Education_status['id'])\n",
        "plt.xlabel('sex')\n",
        "plt.ylabel('Counts')\n",
        "plt.title('Sex Distribution')\n",
        "ax2=plt.subplot(1,2,2)\n",
        "df_1.groupby(['modified_sex'])['id'].count().plot(kind='pie')\n",
        "plt.title('Sex ratio Proportionate')"
      ],
      "metadata": {
        "id": "eJZaZ3x5CatG"
      },
      "execution_count": null,
      "outputs": []
    },
    {
      "cell_type": "code",
      "source": [
        "plt.rcParams['figure.figsize'] = (10, 5)\n",
        "df_1.groupby(['modified_sex','TenYearCHD'])['id'].count().unstack().plot(kind='bar')\n",
        "plt.title('Sex distribution with Ten years CHD')"
      ],
      "metadata": {
        "id": "jXTVWWkpEE_4"
      },
      "execution_count": null,
      "outputs": []
    },
    {
      "cell_type": "markdown",
      "source": [
        "#####1. Why did you pick the specific chart?"
      ],
      "metadata": {
        "id": "zL02DBsd_pXD"
      }
    },
    {
      "cell_type": "markdown",
      "source": [
        "To present the distribution and effect of gender on CHD"
      ],
      "metadata": {
        "id": "nhzJnKKO_pG7"
      }
    },
    {
      "cell_type": "markdown",
      "source": [
        "#####2. What is/are the insight(s) found from the chart?"
      ],
      "metadata": {
        "id": "LLtNkmSg_o8T"
      }
    },
    {
      "cell_type": "markdown",
      "source": [
        "Female population is more than male. Percentage of males prone to CHD is more than female"
      ],
      "metadata": {
        "id": "obhUCI9Y_otL"
      }
    },
    {
      "cell_type": "markdown",
      "source": [
        "#####3. Will the gained insights help creating a positive business impact?\n",
        "Are there any insights that lead to negative growth? Justify with specific reason."
      ],
      "metadata": {
        "id": "Tjd64o47_m-d"
      }
    },
    {
      "cell_type": "markdown",
      "source": [
        "This result suggest to monitor the risk factors for male than female."
      ],
      "metadata": {
        "id": "aP48pda1_oED"
      }
    },
    {
      "cell_type": "markdown",
      "source": [
        "**Chart-4: Smoking Data**"
      ],
      "metadata": {
        "id": "pzAqMZLCFKc3"
      }
    },
    {
      "cell_type": "code",
      "source": [
        "df_1.groupby(['modified_is_smoking'])['id'].count()"
      ],
      "metadata": {
        "id": "mBYHx-FlFKB4"
      },
      "execution_count": null,
      "outputs": []
    },
    {
      "cell_type": "code",
      "source": [
        "fig, ax = plt.subplots(1,2,figsize=(15,5))\n",
        "ax1=plt.subplot(1,2,1)\n",
        "Education_status=pd.DataFrame(df_1.groupby(['modified_is_smoking'])['id'].count())\n",
        "sns.barplot(x=Education_status.index,y=Education_status['id'])\n",
        "plt.xlabel('is_smoking')\n",
        "plt.ylabel('Counts')\n",
        "plt.title('Smoking people Distribution')\n",
        "ax2=plt.subplot(1,2,2)\n",
        "df_1.groupby(['modified_is_smoking'])['id'].count().plot(kind='pie')\n",
        "plt.title('Smoking persons Proportionate')"
      ],
      "metadata": {
        "id": "kqq3IE6IFSJf"
      },
      "execution_count": null,
      "outputs": []
    },
    {
      "cell_type": "code",
      "source": [
        "plt.rcParams['figure.figsize'] = (10, 5)\n",
        "df_1.groupby(['modified_is_smoking','TenYearCHD'])['id'].count().unstack().plot(kind='bar')\n",
        "plt.title('Smoking people distribution with Ten years CHD')"
      ],
      "metadata": {
        "id": "4jzJgY-zFvEX"
      },
      "execution_count": null,
      "outputs": []
    },
    {
      "cell_type": "code",
      "source": [
        "plt.rcParams['figure.figsize'] = (15, 5)\n",
        "df_1.groupby(['age','modified_is_smoking'])['id'].count().unstack().plot(kind='bar')\n",
        "plt.title('Age wise smoking people')"
      ],
      "metadata": {
        "id": "a_6PMgiMF0t3"
      },
      "execution_count": null,
      "outputs": []
    },
    {
      "cell_type": "markdown",
      "source": [
        "#####1. Why did you pick the specific chart?"
      ],
      "metadata": {
        "id": "e4z1B_rlABgd"
      }
    },
    {
      "cell_type": "markdown",
      "source": [
        "To identify the distribution of smoking people in population,effect of smoking on CHD and combined effect of age and smoking on CHD."
      ],
      "metadata": {
        "id": "YpcCzoayABH7"
      }
    },
    {
      "cell_type": "markdown",
      "source": [
        "#####2. What is/are the insight(s) found from the chart?"
      ],
      "metadata": {
        "id": "BF1GE0uC_9y8"
      }
    },
    {
      "cell_type": "markdown",
      "source": [
        "Population is balanced with smoking and no smoking. Risk of CHD is more in smoking population.Smoking population is more in age group 35-47 than rest."
      ],
      "metadata": {
        "id": "GWMfUIBH__A9"
      }
    },
    {
      "cell_type": "markdown",
      "source": [
        "#####3. Will the gained insights help creating a positive business impact?\n",
        "Are there any insights that lead to negative growth? Justify with specific reason."
      ],
      "metadata": {
        "id": "tKnkuSCXAH7j"
      }
    },
    {
      "cell_type": "markdown",
      "source": [
        "The results suggest to focus on certain age group and smoking population for risk minimization."
      ],
      "metadata": {
        "id": "CgutudaCAHoM"
      }
    },
    {
      "cell_type": "markdown",
      "source": [
        "**Chart-5: Cigarets per day**"
      ],
      "metadata": {
        "id": "mEw6uKCIGHYP"
      }
    },
    {
      "cell_type": "code",
      "source": [
        "df_1.groupby(['cigsPerDay'])['id'].count()"
      ],
      "metadata": {
        "id": "QWf8urU3GBoA"
      },
      "execution_count": null,
      "outputs": []
    },
    {
      "cell_type": "code",
      "source": [
        "fig, ax = plt.subplots(1,2,figsize=(20,5))\n",
        "ax1=plt.subplot(1,2,1)\n",
        "Education_status=pd.DataFrame(df_1.groupby(['cigsPerDay'])['id'].count())\n",
        "sns.barplot(x=Education_status.index,y=Education_status['id'])\n",
        "plt.xlabel('cigsPerDay')\n",
        "plt.ylabel('Counts')\n",
        "plt.title('Cigretes per day Distribution')\n",
        "ax2=plt.subplot(1,2,2)\n",
        "df_1.groupby(['cigsPerDay'])['id'].count().plot(kind='pie')\n",
        "plt.title('cigrets per day Proportionate')"
      ],
      "metadata": {
        "id": "mf6vTTdFGN8q"
      },
      "execution_count": null,
      "outputs": []
    },
    {
      "cell_type": "code",
      "source": [
        "plt.rcParams['figure.figsize'] = (10, 5)\n",
        "df_1.groupby(['cigsPerDay','TenYearCHD'])['id'].count().unstack().plot(kind='bar')\n",
        "plt.title('cig per day with Ten years CHD')"
      ],
      "metadata": {
        "id": "f_5cwmatGdfa"
      },
      "execution_count": null,
      "outputs": []
    },
    {
      "cell_type": "markdown",
      "source": [
        "#####1. Why did you pick the specific chart?"
      ],
      "metadata": {
        "id": "qNOYQ42EATQr"
      }
    },
    {
      "cell_type": "markdown",
      "source": [
        "To present the risk of CHD based on Cigarettes per day smoked"
      ],
      "metadata": {
        "id": "WuurPddcATG8"
      }
    },
    {
      "cell_type": "markdown",
      "source": [
        "#####2. What is/are the insight(s) found from the chart?"
      ],
      "metadata": {
        "id": "T523R0rvAS8u"
      }
    },
    {
      "cell_type": "markdown",
      "source": [
        "It provided the distribution of cigsPerDay. It is observed that 20 cigsPerDay and 0 cigsPerDay has larger popoluation prone to CHD."
      ],
      "metadata": {
        "id": "x9myn9q3ASyk"
      }
    },
    {
      "cell_type": "markdown",
      "source": [
        "#####3. Will the gained insights help creating a positive business impact?\n",
        "Are there any insights that lead to negative growth? Justify with specific reason."
      ],
      "metadata": {
        "id": "FIObU5LqAQ1D"
      }
    },
    {
      "cell_type": "markdown",
      "source": [
        "The results suggest that cigsPerDay does not individually affect the risk, but others factors needs to be considered."
      ],
      "metadata": {
        "id": "z8DGsfZwASPM"
      }
    },
    {
      "cell_type": "markdown",
      "source": [
        "**Chart-6: BP Medication**"
      ],
      "metadata": {
        "id": "6KLaw3d-GoVH"
      }
    },
    {
      "cell_type": "code",
      "source": [
        "df_1.groupby(['BPMeds'])['id'].count()"
      ],
      "metadata": {
        "id": "m37i1u99GjKf"
      },
      "execution_count": null,
      "outputs": []
    },
    {
      "cell_type": "code",
      "source": [
        "fig, ax = plt.subplots(1,2,figsize=(15,5))\n",
        "ax1=plt.subplot(1,2,1)\n",
        "Education_status=pd.DataFrame(df_1.groupby(['BPMeds'])['id'].count())\n",
        "sns.barplot(x=Education_status.index,y=Education_status['id'])\n",
        "plt.xlabel('BPMeds')\n",
        "plt.ylabel('Counts')\n",
        "plt.title('BP medication people Distribution')\n",
        "ax2=plt.subplot(1,2,2)\n",
        "df_1.groupby(['BPMeds'])['id'].count().plot(kind='pie')\n",
        "plt.title('BP Medication persons Proportionate')"
      ],
      "metadata": {
        "id": "jtiNdbf87Iun"
      },
      "execution_count": null,
      "outputs": []
    },
    {
      "cell_type": "code",
      "source": [
        "plt.rcParams['figure.figsize'] = (10, 5)\n",
        "df_1.groupby(['BPMeds','TenYearCHD'])['id'].count().unstack().plot(kind='bar')\n",
        "plt.title('BP Medication people distribution with Ten years CHD')"
      ],
      "metadata": {
        "id": "KzTxXF0hGwrW"
      },
      "execution_count": null,
      "outputs": []
    },
    {
      "cell_type": "markdown",
      "source": [
        "#####1. Why did you pick the specific chart?"
      ],
      "metadata": {
        "id": "it5OLvE_ArEr"
      }
    },
    {
      "cell_type": "markdown",
      "source": [
        "To identify the population under BP medication and effect on Ten year CHD."
      ],
      "metadata": {
        "id": "ZMqlpSR3AxML"
      }
    },
    {
      "cell_type": "markdown",
      "source": [
        "#####2. What is/are the insight(s) found from the chart?"
      ],
      "metadata": {
        "id": "VuPv7fn_AyUj"
      }
    },
    {
      "cell_type": "markdown",
      "source": [
        "Very few population is taking the medication and the peaple who ddo not take medication are prone to risk of TenYearCHD."
      ],
      "metadata": {
        "id": "a2tr6LY4AyxG"
      }
    },
    {
      "cell_type": "markdown",
      "source": [
        "#####3. Will the gained insights help creating a positive business impact?\n",
        "Are there any insights that lead to negative growth? Justify with specific reason."
      ],
      "metadata": {
        "id": "6k6d0-BNA3fT"
      }
    },
    {
      "cell_type": "markdown",
      "source": [
        "The results suggests to undergo regular medication for blood pressure related issues."
      ],
      "metadata": {
        "id": "GB8OR4xdA4H7"
      }
    },
    {
      "cell_type": "markdown",
      "source": [
        "**Chart-7: Prevalent Stroke**"
      ],
      "metadata": {
        "id": "js8P1yigIg6n"
      }
    },
    {
      "cell_type": "code",
      "source": [
        "df_1.groupby(['prevalentStroke'])['id'].count()"
      ],
      "metadata": {
        "id": "s4SLxTUxIgoX"
      },
      "execution_count": null,
      "outputs": []
    },
    {
      "cell_type": "code",
      "source": [
        "fig, ax = plt.subplots(1,2,figsize=(15,5))\n",
        "ax1=plt.subplot(1,2,1)\n",
        "Education_status=pd.DataFrame(df_1.groupby(['prevalentStroke'])['id'].count())\n",
        "sns.barplot(x=Education_status.index,y=Education_status['id'])\n",
        "plt.xlabel('PrevalentStroke')\n",
        "plt.ylabel('Counts')\n",
        "plt.title('Prevalent Stroke data Distribution')\n",
        "ax2=plt.subplot(1,2,2)\n",
        "df_1.groupby(['prevalentStroke'])['id'].count().plot(kind='pie')\n",
        "plt.title('Prevalent Stroke persons Proportionate')"
      ],
      "metadata": {
        "id": "uepXbLq-IziX"
      },
      "execution_count": null,
      "outputs": []
    },
    {
      "cell_type": "code",
      "source": [
        "plt.rcParams['figure.figsize'] = (10, 5)\n",
        "df_1.groupby(['prevalentStroke','TenYearCHD'])['id'].count().unstack().plot(kind='bar')\n",
        "plt.title('prevalentStroke people distribution with Ten years CHD')"
      ],
      "metadata": {
        "id": "l4D3MHKsI_vX"
      },
      "execution_count": null,
      "outputs": []
    },
    {
      "cell_type": "markdown",
      "source": [
        "#####1. Why did you pick the specific chart?"
      ],
      "metadata": {
        "id": "PDblYMjvBBiz"
      }
    },
    {
      "cell_type": "markdown",
      "source": [
        "To identify the distribution of stroke history in the population and effect on Ten Year CHD."
      ],
      "metadata": {
        "id": "a7p30yfZBBZM"
      }
    },
    {
      "cell_type": "markdown",
      "source": [
        "#####2. What is/are the insight(s) found from the chart?"
      ],
      "metadata": {
        "id": "L7DU2f1JBBPb"
      }
    },
    {
      "cell_type": "markdown",
      "source": [
        "Very less peaple has history of stroke."
      ],
      "metadata": {
        "id": "k8Xh3gVPBBEM"
      }
    },
    {
      "cell_type": "markdown",
      "source": [
        "#####3. Will the gained insights help creating a positive business impact?\n",
        "Are there any insights that lead to negative growth? Justify with specific reason."
      ],
      "metadata": {
        "id": "KA-YK4-FA_uT"
      }
    },
    {
      "cell_type": "markdown",
      "source": [
        "The peoples with history of strokes are prone to risk."
      ],
      "metadata": {
        "id": "BqpAiDtJBAmT"
      }
    },
    {
      "cell_type": "markdown",
      "source": [
        "**Chart-8: Hypertension**"
      ],
      "metadata": {
        "id": "bzHa88PLJ-Vv"
      }
    },
    {
      "cell_type": "code",
      "source": [
        "df_1.groupby(['prevalentHyp'])['id'].count()"
      ],
      "metadata": {
        "id": "_YfJx3B7JPHJ"
      },
      "execution_count": null,
      "outputs": []
    },
    {
      "cell_type": "code",
      "source": [
        "fig, ax = plt.subplots(1,2,figsize=(15,5))\n",
        "ax1=plt.subplot(1,2,1)\n",
        "Education_status=pd.DataFrame(df_1.groupby(['prevalentHyp'])['id'].count())\n",
        "sns.barplot(x=Education_status.index,y=Education_status['id'])\n",
        "plt.xlabel('PrevprevalentHypalentStroke')\n",
        "plt.ylabel('Counts')\n",
        "plt.title('Prevalent Hypertension data Distribution')\n",
        "ax2=plt.subplot(1,2,2)\n",
        "df_1.groupby(['prevalentHyp'])['id'].count().plot(kind='pie')\n",
        "plt.title('Prevalent Hypertension persons Proportionate')"
      ],
      "metadata": {
        "id": "9hluHel2KEPS"
      },
      "execution_count": null,
      "outputs": []
    },
    {
      "cell_type": "code",
      "source": [
        "plt.rcParams['figure.figsize'] = (10, 5)\n",
        "df_1.groupby(['prevalentHyp','TenYearCHD'])['id'].count().unstack().plot(kind='bar')\n",
        "plt.title('prevalent Hypertension people distribution with Ten years CHD')"
      ],
      "metadata": {
        "id": "XDFiIgKyKR8e"
      },
      "execution_count": null,
      "outputs": []
    },
    {
      "cell_type": "markdown",
      "source": [
        "#####1. Why did you pick the specific chart?"
      ],
      "metadata": {
        "id": "DKyzyDukBRUz"
      }
    },
    {
      "cell_type": "markdown",
      "source": [
        "To identify the distribution of hypertension in the population and effect on Ten Year CHD."
      ],
      "metadata": {
        "id": "tlIsXzPfBTFz"
      }
    },
    {
      "cell_type": "markdown",
      "source": [
        "#####2. What is/are the insight(s) found from the chart?"
      ],
      "metadata": {
        "id": "Hzx6s82pBVH0"
      }
    },
    {
      "cell_type": "markdown",
      "source": [
        "Reasonable population has  hypertension.The propotion of population with  hypertension are prone to risk"
      ],
      "metadata": {
        "id": "B9XGke0RBVsy"
      }
    },
    {
      "cell_type": "markdown",
      "source": [
        "#####3. Will the gained insights help creating a positive business impact?\n",
        "Are there any insights that lead to negative growth? Justify with specific reason."
      ],
      "metadata": {
        "id": "q_MUH8pGBbbs"
      }
    },
    {
      "cell_type": "markdown",
      "source": [
        "Thus, the hyprtension should be taken care of and treated at appropriate time."
      ],
      "metadata": {
        "id": "JNAIJ0d8Bess"
      }
    },
    {
      "cell_type": "markdown",
      "source": [
        "**Chart-9: Diabetes**"
      ],
      "metadata": {
        "id": "9JSCSLNv0UjT"
      }
    },
    {
      "cell_type": "code",
      "source": [
        "df_1.groupby(['diabetes'])['id'].count()"
      ],
      "metadata": {
        "id": "mybGVcnj00LQ"
      },
      "execution_count": null,
      "outputs": []
    },
    {
      "cell_type": "code",
      "source": [
        "fig, ax = plt.subplots(1,2,figsize=(15,5))\n",
        "ax1=plt.subplot(1,2,1)\n",
        "Education_status=pd.DataFrame(df_1.groupby(['diabetes'])['id'].count())\n",
        "sns.barplot(x=Education_status.index,y=Education_status['id'])\n",
        "plt.xlabel('diabetes')\n",
        "plt.ylabel('Counts')\n",
        "plt.title('Diabetes data Distribution')\n",
        "ax2=plt.subplot(1,2,2)\n",
        "df_1.groupby(['diabetes'])['id'].count().plot(kind='pie')\n",
        "plt.title('Diabetes persons Proportionate')"
      ],
      "metadata": {
        "id": "pxXE1J2R03ov"
      },
      "execution_count": null,
      "outputs": []
    },
    {
      "cell_type": "code",
      "source": [
        "plt.rcParams['figure.figsize'] = (10, 5)\n",
        "df_1.groupby(['diabetes','TenYearCHD'])['id'].count().unstack().plot(kind='bar')\n",
        "plt.title('Diabetes people distribution with Ten years CHD')"
      ],
      "metadata": {
        "id": "r4GuPcDw1WtF"
      },
      "execution_count": null,
      "outputs": []
    },
    {
      "cell_type": "markdown",
      "source": [
        "#####1. Why did you pick the specific chart?"
      ],
      "metadata": {
        "id": "390HpvVaBl2C"
      }
    },
    {
      "cell_type": "markdown",
      "source": [
        "To identify the distribution of diabetes in the population and effect on Ten Year CHD."
      ],
      "metadata": {
        "id": "suy6rgcFBlrb"
      }
    },
    {
      "cell_type": "markdown",
      "source": [
        "#####2. What is/are the insight(s) found from the chart?"
      ],
      "metadata": {
        "id": "VGLrWvcEBlh8"
      }
    },
    {
      "cell_type": "markdown",
      "source": [
        "Very less population with diabetes. The propotion of population with diabetes are prone to risk"
      ],
      "metadata": {
        "id": "qvVOKVxYBlKl"
      }
    },
    {
      "cell_type": "markdown",
      "source": [
        "#####3. Will the gained insights help creating a positive business impact?\n",
        "Are there any insights that lead to negative growth? Justify with specific reason."
      ],
      "metadata": {
        "id": "FdCzRnITBi7L"
      }
    },
    {
      "cell_type": "markdown",
      "source": [
        "Thus, the diabetes should be taken care of and treated at appropriate time."
      ],
      "metadata": {
        "id": "xj_zXjGNBkjr"
      }
    },
    {
      "cell_type": "markdown",
      "source": [
        "**Chart-10: Total Cholesterol**"
      ],
      "metadata": {
        "id": "eYgfGm0B1fk1"
      }
    },
    {
      "cell_type": "code",
      "source": [
        "df_1.groupby(['totChol'])['id'].count()"
      ],
      "metadata": {
        "id": "IGHAJAUr1nfs"
      },
      "execution_count": null,
      "outputs": []
    },
    {
      "cell_type": "code",
      "source": [
        "fig, ax = plt.subplots(1,2,figsize=(15,5))\n",
        "ax1=plt.subplot(1,2,1)\n",
        "Education_status=pd.DataFrame(df_1.groupby(['totChol'])['id'].count())\n",
        "sns.barplot(x=Education_status.index,y=Education_status['id'])\n",
        "plt.xlabel('totChol')\n",
        "plt.ylabel('Counts')\n",
        "plt.title('Total cholesterol data Distribution')\n",
        "ax2=plt.subplot(1,2,2)\n",
        "df_1.groupby(['totChol'])['id'].count().plot(kind='pie')\n",
        "plt.title('Total cholesterol persons Proportionate')"
      ],
      "metadata": {
        "id": "xD70VRcU1rft"
      },
      "execution_count": null,
      "outputs": []
    },
    {
      "cell_type": "code",
      "source": [
        "plt.rcParams['figure.figsize'] = (10, 5)\n",
        "df_1.groupby(['totChol','TenYearCHD'])['id'].count().unstack().plot(kind='bar')\n",
        "plt.title('Total cholesterol people distribution with Ten years CHD')"
      ],
      "metadata": {
        "id": "xhTGsz6t19Z4"
      },
      "execution_count": null,
      "outputs": []
    },
    {
      "cell_type": "markdown",
      "source": [
        "#####1. Why did you pick the specific chart?"
      ],
      "metadata": {
        "id": "3CUjLekRCAEM"
      }
    },
    {
      "cell_type": "markdown",
      "source": [
        "To identify the distribution of population with total chol and its effect on Ten Year CHD."
      ],
      "metadata": {
        "id": "OThQeKTLCBDT"
      }
    },
    {
      "cell_type": "markdown",
      "source": [
        "#####2. What is/are the insight(s) found from the chart?"
      ],
      "metadata": {
        "id": "c0BPpy4GCEw7"
      }
    },
    {
      "cell_type": "markdown",
      "source": [
        "The data is normally distributed with no of people falling in the middle range of totChol is larger."
      ],
      "metadata": {
        "id": "nA6gjk0XCJX8"
      }
    },
    {
      "cell_type": "markdown",
      "source": [
        "#####3. Will the gained insights help creating a positive business impact?\n",
        "Are there any insights that lead to negative growth? Justify with specific reason."
      ],
      "metadata": {
        "id": "KnbkD1iKCLX7"
      }
    },
    {
      "cell_type": "markdown",
      "source": [
        "The target population to implement intervention for reducing cholesterol can be identified and monitored."
      ],
      "metadata": {
        "id": "2WOSInZnCOy7"
      }
    },
    {
      "cell_type": "markdown",
      "source": [
        "**Chart-11: Systolic BP**"
      ],
      "metadata": {
        "id": "c5pon2ll2Hgt"
      }
    },
    {
      "cell_type": "code",
      "source": [
        "df_1.groupby(['sysBP'])['id'].count()"
      ],
      "metadata": {
        "id": "z9buZ74q2LMV"
      },
      "execution_count": null,
      "outputs": []
    },
    {
      "cell_type": "code",
      "source": [
        "fig, ax = plt.subplots(1,2,figsize=(15,5))\n",
        "ax1=plt.subplot(1,2,1)\n",
        "Education_status=pd.DataFrame(df_1.groupby(['sysBP'])['id'].count())\n",
        "sns.barplot(x=Education_status.index,y=Education_status['id'])\n",
        "plt.xlabel('sysBP')\n",
        "plt.ylabel('Counts')\n",
        "plt.title('Systolic BP data Distribution')\n",
        "ax2=plt.subplot(1,2,2)\n",
        "df_1.groupby(['sysBP'])['id'].count().plot(kind='pie')\n",
        "plt.title('Systolic BP persons Proportionate')"
      ],
      "metadata": {
        "id": "7Xe1JjVX2OVJ"
      },
      "execution_count": null,
      "outputs": []
    },
    {
      "cell_type": "code",
      "source": [
        "plt.rcParams['figure.figsize'] = (10, 5)\n",
        "df_1.groupby(['sysBP','TenYearCHD'])['id'].count().unstack().plot(kind='bar')\n",
        "plt.title('Systolic BP people distribution with Ten years CHD')"
      ],
      "metadata": {
        "id": "BSOLMfhb2nDF"
      },
      "execution_count": null,
      "outputs": []
    },
    {
      "cell_type": "markdown",
      "source": [
        "#####1. Why did you pick the specific chart?"
      ],
      "metadata": {
        "id": "UeuV0ZMxCWOD"
      }
    },
    {
      "cell_type": "markdown",
      "source": [
        "To identify the distribution of the data and its effect on CHD"
      ],
      "metadata": {
        "id": "bqyTegB0CZzC"
      }
    },
    {
      "cell_type": "markdown",
      "source": [
        "#####2. What is/are the insight(s) found from the chart?"
      ],
      "metadata": {
        "id": "3l3RpxX0CbnS"
      }
    },
    {
      "cell_type": "markdown",
      "source": [
        "The data is normally distributed with leftward skew no of people falling in the left side has larger sys BP."
      ],
      "metadata": {
        "id": "D6t_GhGXCgrK"
      }
    },
    {
      "cell_type": "markdown",
      "source": [
        "#####3. Will the gained insights help creating a positive business impact?\n",
        "Are there any insights that lead to negative growth? Justify with specific reason."
      ],
      "metadata": {
        "id": "DuTatgojCUP8"
      }
    },
    {
      "cell_type": "markdown",
      "source": [
        "The target population to implement intervention for reducing CHL risk can be identified and monitored."
      ],
      "metadata": {
        "id": "HYZJZgbBCVwc"
      }
    },
    {
      "cell_type": "markdown",
      "source": [
        "**Chart-12: Diastolic BP**"
      ],
      "metadata": {
        "id": "FWC2za0F2qAg"
      }
    },
    {
      "cell_type": "code",
      "source": [
        "df_1.groupby(['diaBP'])['id'].count()"
      ],
      "metadata": {
        "id": "kPt_uhC720H-"
      },
      "execution_count": null,
      "outputs": []
    },
    {
      "cell_type": "code",
      "source": [
        "fig, ax = plt.subplots(1,2,figsize=(15,5))\n",
        "ax1=plt.subplot(1,2,1)\n",
        "Education_status=pd.DataFrame(df_1.groupby(['diaBP'])['id'].count())\n",
        "sns.barplot(x=Education_status.index,y=Education_status['id'])\n",
        "plt.xlabel('diaBP')\n",
        "plt.ylabel('Counts')\n",
        "plt.title('Diastolic BP data Distribution')\n",
        "ax2=plt.subplot(1,2,2)\n",
        "df_1.groupby(['diaBP'])['id'].count().plot(kind='pie')\n",
        "plt.title('Diastolic BP persons Proposanate')"
      ],
      "metadata": {
        "id": "ItjJNUBu23y1"
      },
      "execution_count": null,
      "outputs": []
    },
    {
      "cell_type": "code",
      "source": [
        "plt.rcParams['figure.figsize'] = (10, 5)\n",
        "df_1.groupby(['diaBP','TenYearCHD'])['id'].count().unstack().plot(kind='bar')\n",
        "plt.title('Diastolic BP people distribution with Ten years CHD')"
      ],
      "metadata": {
        "id": "1ks6HbQa3Ipd"
      },
      "execution_count": null,
      "outputs": []
    },
    {
      "cell_type": "markdown",
      "source": [
        "#####1. Why did you pick the specific chart?"
      ],
      "metadata": {
        "id": "-qG3Y3p3DZZy"
      }
    },
    {
      "cell_type": "markdown",
      "source": [
        "To identify the distribution of the data and its effect on CHD"
      ],
      "metadata": {
        "id": "d_VegrZyDbAk"
      }
    },
    {
      "cell_type": "markdown",
      "source": [
        "#####2. What is/are the insight(s) found from the chart?"
      ],
      "metadata": {
        "id": "ItwiMEzuCoAD"
      }
    },
    {
      "cell_type": "markdown",
      "source": [
        "The data is normally distributed and risk of CHD at central range of diaBP is larger."
      ],
      "metadata": {
        "id": "_kXpA0zPCpFK"
      }
    },
    {
      "cell_type": "markdown",
      "source": [
        "#####3. Will the gained insights help creating a positive business impact?\n",
        "Are there any insights that lead to negative growth? Justify with specific reason."
      ],
      "metadata": {
        "id": "iGm6Hc-nDfwq"
      }
    },
    {
      "cell_type": "markdown",
      "source": [
        "The target population to implement intervention for reducing CHL risk can be identified and monitored."
      ],
      "metadata": {
        "id": "vgr99tJhDl9y"
      }
    },
    {
      "cell_type": "markdown",
      "source": [
        "**Chart-13: BMI**"
      ],
      "metadata": {
        "id": "ZI55LM513jN-"
      }
    },
    {
      "cell_type": "code",
      "source": [
        "df_1.groupby(['BMI'])['id'].count()"
      ],
      "metadata": {
        "id": "HL4spYY33av2"
      },
      "execution_count": null,
      "outputs": []
    },
    {
      "cell_type": "code",
      "source": [
        "fig, ax = plt.subplots(1,2,figsize=(15,5))\n",
        "ax1=plt.subplot(1,2,1)\n",
        "Education_status=pd.DataFrame(df_1.groupby(['BMI'])['id'].count())\n",
        "sns.barplot(x=Education_status.index,y=Education_status['id'])\n",
        "plt.xlabel('BMI')\n",
        "plt.ylabel('Counts')\n",
        "plt.title('Body mass index data Distribution')\n",
        "ax2=plt.subplot(1,2,2)\n",
        "df_1.groupby(['BMI'])['id'].count().plot(kind='pie')\n",
        "plt.title('Body mass index persons Proportionate')"
      ],
      "metadata": {
        "id": "elecS4Ay3qOn"
      },
      "execution_count": null,
      "outputs": []
    },
    {
      "cell_type": "code",
      "source": [
        "plt.rcParams['figure.figsize'] = (10, 5)\n",
        "df_1.groupby(['BMI','TenYearCHD'])['id'].count().unstack().plot(kind='bar')\n",
        "plt.title('Body mass index people distribution with Ten years CHD')"
      ],
      "metadata": {
        "id": "n75p4w4w38HU"
      },
      "execution_count": null,
      "outputs": []
    },
    {
      "cell_type": "markdown",
      "source": [
        "#####1. Why did you pick the specific chart?"
      ],
      "metadata": {
        "id": "cGM4hDk6EFp7"
      }
    },
    {
      "cell_type": "markdown",
      "source": [
        "To identify the distribution of data and effect of BMI on CHD."
      ],
      "metadata": {
        "id": "dQkW_JNjEJms"
      }
    },
    {
      "cell_type": "markdown",
      "source": [
        "#####2. What is/are the insight(s) found from the chart?"
      ],
      "metadata": {
        "id": "TyyiyNMaD-qE"
      }
    },
    {
      "cell_type": "markdown",
      "source": [
        "The people with larger BMI are more prone to risk of CHD."
      ],
      "metadata": {
        "id": "1bqVvQjjEDby"
      }
    },
    {
      "cell_type": "markdown",
      "source": [
        "#####3. Will the gained insights help creating a positive business impact?\n",
        "Are there any insights that lead to negative growth? Justify with specific reason."
      ],
      "metadata": {
        "id": "HJIGbPMzD257"
      }
    },
    {
      "cell_type": "markdown",
      "source": [
        "The target population to implement intervention for reducing CHL risk can be identified and monitored."
      ],
      "metadata": {
        "id": "ECU4aNiAD-DK"
      }
    },
    {
      "cell_type": "markdown",
      "source": [
        "**Chart-14: Heart Rate**"
      ],
      "metadata": {
        "id": "ydGaOUp44Jkw"
      }
    },
    {
      "cell_type": "code",
      "source": [
        "df_1.groupby(['heartRate'])['id'].count()"
      ],
      "metadata": {
        "id": "2mFXktf44Nc_"
      },
      "execution_count": null,
      "outputs": []
    },
    {
      "cell_type": "code",
      "source": [
        "fig, ax = plt.subplots(1,2,figsize=(15,5))\n",
        "ax1=plt.subplot(1,2,1)\n",
        "Education_status=pd.DataFrame(df_1.groupby(['heartRate'])['id'].count())\n",
        "sns.barplot(x=Education_status.index,y=Education_status['id'])\n",
        "plt.xlabel('heartRate')\n",
        "plt.ylabel('Counts')\n",
        "plt.title('Heart Rate data Distribution')\n",
        "ax2=plt.subplot(1,2,2)\n",
        "df_1.groupby(['heartRate'])['id'].count().plot(kind='pie')\n",
        "plt.title('Heart Rate persons Proportionate')"
      ],
      "metadata": {
        "id": "Sk6l588h4Z01"
      },
      "execution_count": null,
      "outputs": []
    },
    {
      "cell_type": "code",
      "source": [
        "plt.rcParams['figure.figsize'] = (10, 5)\n",
        "df_1.groupby(['heartRate','TenYearCHD'])['id'].count().unstack().plot(kind='bar')\n",
        "plt.title('Heart Rate people distribution with Ten years CHD')"
      ],
      "metadata": {
        "id": "z5AiqTtx4v4F"
      },
      "execution_count": null,
      "outputs": []
    },
    {
      "cell_type": "markdown",
      "source": [
        "#####1. Why did you pick the specific chart?"
      ],
      "metadata": {
        "id": "NUOm5jZMEQhi"
      }
    },
    {
      "cell_type": "markdown",
      "source": [
        "To identify the distribution of data and effect of Heart rate on CHD."
      ],
      "metadata": {
        "id": "N6lB_jwzESJh"
      }
    },
    {
      "cell_type": "markdown",
      "source": [
        "#####2. What is/are the insight(s) found from the chart?"
      ],
      "metadata": {
        "id": "_rc4gUE8ET7K"
      }
    },
    {
      "cell_type": "markdown",
      "source": [
        "The peoples with moderate heart rate ranges from 60-95 are more and prone to risk of CHD."
      ],
      "metadata": {
        "id": "aNYeGg6tEW1F"
      }
    },
    {
      "cell_type": "markdown",
      "source": [
        "#####3. Will the gained insights help creating a positive business impact?\n",
        "Are there any insights that lead to negative growth? Justify with specific reason."
      ],
      "metadata": {
        "id": "WOpCfTC-EYrk"
      }
    },
    {
      "cell_type": "markdown",
      "source": [
        "The target population to implement intervention for reducing CHL risk can be identified and monitored."
      ],
      "metadata": {
        "id": "Tgp5vNdREb26"
      }
    },
    {
      "cell_type": "markdown",
      "source": [
        "**Chart-15: Glucose**"
      ],
      "metadata": {
        "id": "_2iCcDLI4-PO"
      }
    },
    {
      "cell_type": "code",
      "source": [
        "df_1.groupby(['glucose'])['id'].count()"
      ],
      "metadata": {
        "id": "S9nF4IAn44UR"
      },
      "execution_count": null,
      "outputs": []
    },
    {
      "cell_type": "code",
      "source": [
        "fig, ax = plt.subplots(1,2,figsize=(15,5))\n",
        "ax1=plt.subplot(1,2,1)\n",
        "Education_status=pd.DataFrame(df_1.groupby(['glucose'])['id'].count())\n",
        "sns.barplot(x=Education_status.index,y=Education_status['id'])\n",
        "plt.xlabel('prevalentStroke')\n",
        "plt.ylabel('Counts')\n",
        "plt.title('Glucose data Distribution')\n",
        "ax2=plt.subplot(1,2,2)\n",
        "df_1.groupby(['glucose'])['id'].count().plot(kind='pie')\n",
        "plt.title('Glucose persons Proportionate')"
      ],
      "metadata": {
        "id": "1bOb9j5v5BMH"
      },
      "execution_count": null,
      "outputs": []
    },
    {
      "cell_type": "code",
      "source": [
        "plt.rcParams['figure.figsize'] = (25, 5)\n",
        "df_1.groupby(['glucose','TenYearCHD'])['id'].count().unstack().plot(kind='bar')\n",
        "plt.title('Glucose people distribution with Ten years CHD')"
      ],
      "metadata": {
        "id": "QWl88JV55R-F"
      },
      "execution_count": null,
      "outputs": []
    },
    {
      "cell_type": "markdown",
      "source": [
        "#####1. Why did you pick the specific chart?"
      ],
      "metadata": {
        "id": "l9rO9rFiEtOD"
      }
    },
    {
      "cell_type": "markdown",
      "source": [
        "To identify the distribution of data and effect of glucose on CHD."
      ],
      "metadata": {
        "id": "J--efO8YEwGD"
      }
    },
    {
      "cell_type": "markdown",
      "source": [
        "#####2. What is/are the insight(s) found from the chart?"
      ],
      "metadata": {
        "id": "tRd1UCEbEoMC"
      }
    },
    {
      "cell_type": "markdown",
      "source": [
        "The data is skewed towards left and people with glucose level 60-97 are more prone to risk."
      ],
      "metadata": {
        "id": "CDpaY4lYErYK"
      }
    },
    {
      "cell_type": "markdown",
      "source": [
        "#####3. Will the gained insights help creating a positive business impact?\n",
        "Are there any insights that lead to negative growth? Justify with specific reason."
      ],
      "metadata": {
        "id": "hpGti_VaEjbx"
      }
    },
    {
      "cell_type": "markdown",
      "source": [
        "The target population to implement intervention for reducing CHL risk can be identified and monitored."
      ],
      "metadata": {
        "id": "cdRx-tbREnoa"
      }
    },
    {
      "cell_type": "code",
      "source": [
        "df_1.drop(['id'],axis=1,inplace=True) #Id is not useful for Model training."
      ],
      "metadata": {
        "id": "DVnVLeUD-VOW"
      },
      "execution_count": null,
      "outputs": []
    },
    {
      "cell_type": "code",
      "source": [
        "df_1.head()"
      ],
      "metadata": {
        "id": "T0r2GWxR-e3K"
      },
      "execution_count": null,
      "outputs": []
    },
    {
      "cell_type": "markdown",
      "source": [
        "#####**Chart-16: Histogram Plot**"
      ],
      "metadata": {
        "id": "DcFwj9udHRYy"
      }
    },
    {
      "cell_type": "code",
      "source": [
        "fig = plt.figure(figsize = (20,15))\n",
        "ax = fig.gca()\n",
        "df_1.hist(ax = ax)"
      ],
      "metadata": {
        "id": "jwu5a1V8-MIf"
      },
      "execution_count": null,
      "outputs": []
    },
    {
      "cell_type": "markdown",
      "source": [
        "####**Chart-17: Correlation Heatmap**"
      ],
      "metadata": {
        "id": "ysaBsd-RHA2k"
      }
    },
    {
      "cell_type": "code",
      "source": [
        "plt.figure(figsize=(15,8))\n",
        "correlation = df_1.corr()\n",
        "sns.heatmap(correlation, annot=True, cmap='coolwarm')"
      ],
      "metadata": {
        "id": "qdQ2bZIXAKOf"
      },
      "execution_count": null,
      "outputs": []
    },
    {
      "cell_type": "markdown",
      "source": [
        "1. Why did you pick the specific chart?"
      ],
      "metadata": {
        "id": "00D4P3G6SMXo"
      }
    },
    {
      "cell_type": "markdown",
      "source": [
        "Correlation is a statistical measure that expresses the strength of the relationship between two variables. So, to identify the correlation between two parameters the heatmap is used."
      ],
      "metadata": {
        "id": "nIhkh0mjSIKL"
      }
    },
    {
      "cell_type": "markdown",
      "source": [
        "2. What is/are the insight(s) found from the chart?"
      ],
      "metadata": {
        "id": "9LqF_KUBSdgI"
      }
    },
    {
      "cell_type": "markdown",
      "source": [
        "The positive and negative correlation between various variables are presented."
      ],
      "metadata": {
        "id": "0WAYIosvSNna"
      }
    },
    {
      "cell_type": "code",
      "source": [
        "from statsmodels.stats.outliers_influence import variance_inflation_factor\n",
        "\n",
        "def cal_vif(X):\n",
        "  vif = pd.DataFrame()\n",
        "  vif[\"variables\"] = X.columns\n",
        "  vif[\"VIF\"] = [variance_inflation_factor(X.values,i) for i in range(X.shape[1])]\n",
        "\n",
        "  return(vif)"
      ],
      "metadata": {
        "id": "0vr0BQuB3MRD"
      },
      "execution_count": null,
      "outputs": []
    },
    {
      "cell_type": "code",
      "source": [
        "cal_vif(df_1[[i for i in df_1.describe().columns if i not in ['TenYearCHD']]])"
      ],
      "metadata": {
        "id": "0t6N355L3VPJ"
      },
      "execution_count": null,
      "outputs": []
    },
    {
      "cell_type": "markdown",
      "source": [
        "#####**Chart-18: Boxplot**"
      ],
      "metadata": {
        "id": "vCHji_2aHnw5"
      }
    },
    {
      "cell_type": "code",
      "source": [
        "for i in df_1.columns[:-1]:\n",
        "  fig = plt.figure(figsize=(9, 6))\n",
        "  ax = fig.gca()\n",
        "  df_1.boxplot(column = i, by = 'TenYearCHD', ax = ax)\n",
        "  ax.set_ylabel(i)\n",
        "plt.show()"
      ],
      "metadata": {
        "id": "iMr0lCp_A6P2"
      },
      "execution_count": null,
      "outputs": []
    },
    {
      "cell_type": "markdown",
      "source": [
        "### What all manipulations have you done and insights you found?"
      ],
      "metadata": {
        "id": "MSa1f5Uengrz"
      }
    },
    {
      "cell_type": "markdown",
      "source": [
        "All the variables responsible for risk are analysed and their effects individually and combinely presents suitable interventions."
      ],
      "metadata": {
        "id": "LbyXE7I1olp8"
      }
    },
    {
      "cell_type": "markdown",
      "source": [
        "## ***5. Hypothesis Testing***"
      ],
      "metadata": {
        "id": "g-ATYxFrGrvw"
      }
    },
    {
      "cell_type": "markdown",
      "source": [
        "### Based on your chart experiments, define three hypothetical statements from the dataset. In the next three questions, perform hypothesis testing to obtain final conclusion about the statements through your code and statistical testing."
      ],
      "metadata": {
        "id": "Yfr_Vlr8HBkt"
      }
    },
    {
      "cell_type": "markdown",
      "source": [
        "Answer Here."
      ],
      "metadata": {
        "id": "-7MS06SUHkB-"
      }
    },
    {
      "cell_type": "markdown",
      "source": [
        "### Hypothetical Statement - 1"
      ],
      "metadata": {
        "id": "8yEUt7NnHlrM"
      }
    },
    {
      "cell_type": "markdown",
      "source": [
        "#### 1. State Your research hypothesis as a null hypothesis and alternate hypothesis."
      ],
      "metadata": {
        "id": "tEA2Xm5dHt1r"
      }
    },
    {
      "cell_type": "markdown",
      "source": [
        "Answer Here."
      ],
      "metadata": {
        "id": "HI9ZP0laH0D-"
      }
    },
    {
      "cell_type": "markdown",
      "source": [
        "#### 2. Perform an appropriate statistical test."
      ],
      "metadata": {
        "id": "I79__PHVH19G"
      }
    },
    {
      "cell_type": "code",
      "source": [
        "# Perform Statistical Test to obtain P-Value"
      ],
      "metadata": {
        "id": "oZrfquKtyian"
      },
      "execution_count": null,
      "outputs": []
    },
    {
      "cell_type": "markdown",
      "source": [
        "##### Which statistical test have you done to obtain P-Value?"
      ],
      "metadata": {
        "id": "Ou-I18pAyIpj"
      }
    },
    {
      "cell_type": "markdown",
      "source": [
        "Answer Here."
      ],
      "metadata": {
        "id": "s2U0kk00ygSB"
      }
    },
    {
      "cell_type": "markdown",
      "source": [
        "##### Why did you choose the specific statistical test?"
      ],
      "metadata": {
        "id": "fF3858GYyt-u"
      }
    },
    {
      "cell_type": "markdown",
      "source": [
        "Answer Here."
      ],
      "metadata": {
        "id": "HO4K0gP5y3B4"
      }
    },
    {
      "cell_type": "markdown",
      "source": [
        "### Hypothetical Statement - 2"
      ],
      "metadata": {
        "id": "4_0_7-oCpUZd"
      }
    },
    {
      "cell_type": "markdown",
      "source": [
        "#### 1. State Your research hypothesis as a null hypothesis and alternate hypothesis."
      ],
      "metadata": {
        "id": "hwyV_J3ipUZe"
      }
    },
    {
      "cell_type": "markdown",
      "source": [
        "Answer Here."
      ],
      "metadata": {
        "id": "FnpLGJ-4pUZe"
      }
    },
    {
      "cell_type": "markdown",
      "source": [
        "#### 2. Perform an appropriate statistical test."
      ],
      "metadata": {
        "id": "3yB-zSqbpUZe"
      }
    },
    {
      "cell_type": "code",
      "source": [
        "# Perform Statistical Test to obtain P-Value"
      ],
      "metadata": {
        "id": "sWxdNTXNpUZe"
      },
      "execution_count": null,
      "outputs": []
    },
    {
      "cell_type": "markdown",
      "source": [
        "##### Which statistical test have you done to obtain P-Value?"
      ],
      "metadata": {
        "id": "dEUvejAfpUZe"
      }
    },
    {
      "cell_type": "markdown",
      "source": [
        "Answer Here."
      ],
      "metadata": {
        "id": "oLDrPz7HpUZf"
      }
    },
    {
      "cell_type": "markdown",
      "source": [
        "##### Why did you choose the specific statistical test?"
      ],
      "metadata": {
        "id": "Fd15vwWVpUZf"
      }
    },
    {
      "cell_type": "markdown",
      "source": [
        "Answer Here."
      ],
      "metadata": {
        "id": "4xOGYyiBpUZf"
      }
    },
    {
      "cell_type": "markdown",
      "source": [
        "### Hypothetical Statement - 3"
      ],
      "metadata": {
        "id": "bn_IUdTipZyH"
      }
    },
    {
      "cell_type": "markdown",
      "source": [
        "#### 1. State Your research hypothesis as a null hypothesis and alternate hypothesis."
      ],
      "metadata": {
        "id": "49K5P_iCpZyH"
      }
    },
    {
      "cell_type": "markdown",
      "source": [
        "Answer Here."
      ],
      "metadata": {
        "id": "7gWI5rT9pZyH"
      }
    },
    {
      "cell_type": "markdown",
      "source": [
        "#### 2. Perform an appropriate statistical test."
      ],
      "metadata": {
        "id": "Nff-vKELpZyI"
      }
    },
    {
      "cell_type": "code",
      "source": [
        "# Perform Statistical Test to obtain P-Value"
      ],
      "metadata": {
        "id": "s6AnJQjtpZyI"
      },
      "execution_count": null,
      "outputs": []
    },
    {
      "cell_type": "markdown",
      "source": [
        "##### Which statistical test have you done to obtain P-Value?"
      ],
      "metadata": {
        "id": "kLW572S8pZyI"
      }
    },
    {
      "cell_type": "markdown",
      "source": [
        "Answer Here."
      ],
      "metadata": {
        "id": "ytWJ8v15pZyI"
      }
    },
    {
      "cell_type": "markdown",
      "source": [
        "##### Why did you choose the specific statistical test?"
      ],
      "metadata": {
        "id": "dWbDXHzopZyI"
      }
    },
    {
      "cell_type": "markdown",
      "source": [
        "Answer Here."
      ],
      "metadata": {
        "id": "M99G98V6pZyI"
      }
    },
    {
      "cell_type": "markdown",
      "source": [
        "## ***6. Feature Engineering & Data Pre-processing***"
      ],
      "metadata": {
        "id": "yLjJCtPM0KBk"
      }
    },
    {
      "cell_type": "markdown",
      "source": [
        "### 1. Handling Missing Values"
      ],
      "metadata": {
        "id": "xiyOF9F70UgQ"
      }
    },
    {
      "cell_type": "code",
      "source": [
        "# Handling Missing Values & Missing Value Imputation"
      ],
      "metadata": {
        "id": "iRsAHk1K0fpS"
      },
      "execution_count": null,
      "outputs": []
    },
    {
      "cell_type": "markdown",
      "source": [
        "#### What all missing value imputation techniques have you used and why did you use those techniques?"
      ],
      "metadata": {
        "id": "7wuGOrhz0itI"
      }
    },
    {
      "cell_type": "markdown",
      "source": [
        "Answer Here."
      ],
      "metadata": {
        "id": "1ixusLtI0pqI"
      }
    },
    {
      "cell_type": "markdown",
      "source": [
        "### 2. Handling Outliers"
      ],
      "metadata": {
        "id": "id1riN9m0vUs"
      }
    },
    {
      "cell_type": "code",
      "source": [
        "# Handling Outliers & Outlier treatments"
      ],
      "metadata": {
        "id": "M6w2CzZf04JK"
      },
      "execution_count": null,
      "outputs": []
    },
    {
      "cell_type": "markdown",
      "source": [
        "##### What all outlier treatment techniques have you used and why did you use those techniques?"
      ],
      "metadata": {
        "id": "578E2V7j08f6"
      }
    },
    {
      "cell_type": "markdown",
      "source": [
        "Answer Here."
      ],
      "metadata": {
        "id": "uGZz5OrT1HH-"
      }
    },
    {
      "cell_type": "markdown",
      "source": [
        "### 3. Categorical Encoding"
      ],
      "metadata": {
        "id": "89xtkJwZ18nB"
      }
    },
    {
      "cell_type": "code",
      "source": [
        "# Encode your categorical columns"
      ],
      "metadata": {
        "id": "21JmIYMG2hEo"
      },
      "execution_count": null,
      "outputs": []
    },
    {
      "cell_type": "markdown",
      "source": [
        "#### What all categorical encoding techniques have you used & why did you use those techniques?"
      ],
      "metadata": {
        "id": "67NQN5KX2AMe"
      }
    },
    {
      "cell_type": "markdown",
      "source": [
        "Answer Here."
      ],
      "metadata": {
        "id": "UDaue5h32n_G"
      }
    },
    {
      "cell_type": "markdown",
      "source": [
        "### 4. Textual Data Preprocessing \n",
        "(It's mandatory for textual dataset i.e., NLP, Sentiment Analysis, Text Clustering etc.)"
      ],
      "metadata": {
        "id": "Iwf50b-R2tYG"
      }
    },
    {
      "cell_type": "markdown",
      "source": [
        "#### 1. Expand Contraction"
      ],
      "metadata": {
        "id": "GMQiZwjn3iu7"
      }
    },
    {
      "cell_type": "code",
      "source": [
        "# Expand Contraction"
      ],
      "metadata": {
        "id": "PTouz10C3oNN"
      },
      "execution_count": null,
      "outputs": []
    },
    {
      "cell_type": "markdown",
      "source": [
        "#### 2. Lower Casing"
      ],
      "metadata": {
        "id": "WVIkgGqN3qsr"
      }
    },
    {
      "cell_type": "code",
      "source": [
        "# Lower Casing"
      ],
      "metadata": {
        "id": "88JnJ1jN3w7j"
      },
      "execution_count": null,
      "outputs": []
    },
    {
      "cell_type": "markdown",
      "source": [
        "#### 3. Removing Punctuations"
      ],
      "metadata": {
        "id": "XkPnILGE3zoT"
      }
    },
    {
      "cell_type": "code",
      "source": [
        "# Remove Punctuations"
      ],
      "metadata": {
        "id": "vqbBqNaA33c0"
      },
      "execution_count": null,
      "outputs": []
    },
    {
      "cell_type": "markdown",
      "source": [
        "#### 4. Removing URLs & Removing words and digits contain digits."
      ],
      "metadata": {
        "id": "Hlsf0x5436Go"
      }
    },
    {
      "cell_type": "code",
      "source": [
        "# Remove URLs & Remove words and digits contain digits"
      ],
      "metadata": {
        "id": "2sxKgKxu4Ip3"
      },
      "execution_count": null,
      "outputs": []
    },
    {
      "cell_type": "markdown",
      "source": [
        "#### 5. Removing Stopwords & Removing White spaces"
      ],
      "metadata": {
        "id": "mT9DMSJo4nBL"
      }
    },
    {
      "cell_type": "code",
      "source": [
        "# Remove Stopwords"
      ],
      "metadata": {
        "id": "T2LSJh154s8W"
      },
      "execution_count": null,
      "outputs": []
    },
    {
      "cell_type": "code",
      "source": [
        "# Remove White spaces"
      ],
      "metadata": {
        "id": "EgLJGffy4vm0"
      },
      "execution_count": null,
      "outputs": []
    },
    {
      "cell_type": "markdown",
      "source": [
        "#### 6. Rephrase Text"
      ],
      "metadata": {
        "id": "c49ITxTc407N"
      }
    },
    {
      "cell_type": "code",
      "source": [
        "# Rephrase Text"
      ],
      "metadata": {
        "id": "foqY80Qu48N2"
      },
      "execution_count": null,
      "outputs": []
    },
    {
      "cell_type": "markdown",
      "source": [
        "#### 7. Tokenization"
      ],
      "metadata": {
        "id": "OeJFEK0N496M"
      }
    },
    {
      "cell_type": "code",
      "source": [
        "# Tokenization"
      ],
      "metadata": {
        "id": "ijx1rUOS5CUU"
      },
      "execution_count": null,
      "outputs": []
    },
    {
      "cell_type": "markdown",
      "source": [
        "#### 8. Text Normalization"
      ],
      "metadata": {
        "id": "9ExmJH0g5HBk"
      }
    },
    {
      "cell_type": "code",
      "source": [
        "# Normalizing Text (i.e., Stemming, Lemmatization etc.)"
      ],
      "metadata": {
        "id": "AIJ1a-Zc5PY8"
      },
      "execution_count": null,
      "outputs": []
    },
    {
      "cell_type": "markdown",
      "source": [
        "##### Which text normalization technique have you used and why?"
      ],
      "metadata": {
        "id": "cJNqERVU536h"
      }
    },
    {
      "cell_type": "markdown",
      "source": [
        "Answer Here."
      ],
      "metadata": {
        "id": "Z9jKVxE06BC1"
      }
    },
    {
      "cell_type": "markdown",
      "source": [
        "#### 9. Part of speech tagging"
      ],
      "metadata": {
        "id": "k5UmGsbsOxih"
      }
    },
    {
      "cell_type": "code",
      "source": [
        "# POS Taging"
      ],
      "metadata": {
        "id": "btT3ZJBAO6Ik"
      },
      "execution_count": null,
      "outputs": []
    },
    {
      "cell_type": "markdown",
      "source": [
        "#### 10. Text Vectorization"
      ],
      "metadata": {
        "id": "T0VqWOYE6DLQ"
      }
    },
    {
      "cell_type": "code",
      "source": [
        "# Vectorizing Text"
      ],
      "metadata": {
        "id": "yBRtdhth6JDE"
      },
      "execution_count": null,
      "outputs": []
    },
    {
      "cell_type": "markdown",
      "source": [
        "##### Which text vectorization technique have you used and why?"
      ],
      "metadata": {
        "id": "qBMux9mC6MCf"
      }
    },
    {
      "cell_type": "markdown",
      "source": [
        "Answer Here."
      ],
      "metadata": {
        "id": "su2EnbCh6UKQ"
      }
    },
    {
      "cell_type": "markdown",
      "source": [
        "### 4. Feature Manipulation & Selection"
      ],
      "metadata": {
        "id": "-oLEiFgy-5Pf"
      }
    },
    {
      "cell_type": "markdown",
      "source": [
        "#### 1. Feature Manipulation"
      ],
      "metadata": {
        "id": "C74aWNz2AliB"
      }
    },
    {
      "cell_type": "code",
      "source": [
        "# Manipulate Features to minimize feature correlation and create new features"
      ],
      "metadata": {
        "id": "h1qC4yhBApWC"
      },
      "execution_count": null,
      "outputs": []
    },
    {
      "cell_type": "markdown",
      "source": [
        "#### 2. Feature Selection"
      ],
      "metadata": {
        "id": "2DejudWSA-a0"
      }
    },
    {
      "cell_type": "code",
      "source": [
        "# Select your features wisely to avoid overfitting"
      ],
      "metadata": {
        "id": "YLhe8UmaBCEE"
      },
      "execution_count": null,
      "outputs": []
    },
    {
      "cell_type": "markdown",
      "source": [
        "##### What all feature selection methods have you used  and why?"
      ],
      "metadata": {
        "id": "pEMng2IbBLp7"
      }
    },
    {
      "cell_type": "markdown",
      "source": [
        "Answer Here."
      ],
      "metadata": {
        "id": "rb2Lh6Z8BgGs"
      }
    },
    {
      "cell_type": "markdown",
      "source": [
        "##### Which all features you found important and why?"
      ],
      "metadata": {
        "id": "rAdphbQ9Bhjc"
      }
    },
    {
      "cell_type": "markdown",
      "source": [
        "Answer Here."
      ],
      "metadata": {
        "id": "fGgaEstsBnaf"
      }
    },
    {
      "cell_type": "markdown",
      "source": [
        "### 5. Data Transformation"
      ],
      "metadata": {
        "id": "TNVZ9zx19K6k"
      }
    },
    {
      "cell_type": "markdown",
      "source": [
        "#### Do you think that your data needs to be transformed? If yes, which transformation have you used. Explain Why?"
      ],
      "metadata": {
        "id": "nqoHp30x9hH9"
      }
    },
    {
      "cell_type": "code",
      "source": [
        "# Transform Your data"
      ],
      "metadata": {
        "id": "I6quWQ1T9rtH"
      },
      "execution_count": null,
      "outputs": []
    },
    {
      "cell_type": "markdown",
      "source": [
        "### 6. Data Scaling"
      ],
      "metadata": {
        "id": "rMDnDkt2B6du"
      }
    },
    {
      "cell_type": "code",
      "source": [
        "# Scaling your data"
      ],
      "metadata": {
        "id": "dL9LWpySC6x_"
      },
      "execution_count": null,
      "outputs": []
    },
    {
      "cell_type": "markdown",
      "source": [
        "##### Which method have you used to scale you data and why?"
      ],
      "metadata": {
        "id": "yiiVWRdJDDil"
      }
    },
    {
      "cell_type": "markdown",
      "source": [
        "### 7. Dimesionality Reduction"
      ],
      "metadata": {
        "id": "1UUpS68QDMuG"
      }
    },
    {
      "cell_type": "markdown",
      "source": [
        "##### Do you think that dimensionality reduction is needed? Explain Why?"
      ],
      "metadata": {
        "id": "kexQrXU-DjzY"
      }
    },
    {
      "cell_type": "markdown",
      "source": [
        "Answer Here."
      ],
      "metadata": {
        "id": "GGRlBsSGDtTQ"
      }
    },
    {
      "cell_type": "code",
      "source": [
        "# DImensionality Reduction (If needed)"
      ],
      "metadata": {
        "id": "kQfvxBBHDvCa"
      },
      "execution_count": null,
      "outputs": []
    },
    {
      "cell_type": "markdown",
      "source": [
        "##### Which dimensionality reduction technique have you used and why? (If dimensionality reduction done on dataset.)"
      ],
      "metadata": {
        "id": "T5CmagL3EC8N"
      }
    },
    {
      "cell_type": "markdown",
      "source": [
        "Answer Here."
      ],
      "metadata": {
        "id": "ZKr75IDuEM7t"
      }
    },
    {
      "cell_type": "markdown",
      "source": [
        "### 8. Data Splitting"
      ],
      "metadata": {
        "id": "BhH2vgX9EjGr"
      }
    },
    {
      "cell_type": "code",
      "source": [
        "# Split your data to train and test. Choose Splitting ratio wisely.\n",
        "X=df_1[['age', 'education', 'modified_sex', 'modified_is_smoking', 'cigsPerDay', 'BPMeds',\n",
        "       'prevalentStroke', 'prevalentHyp', 'diabetes', 'totChol', 'sysBP',\n",
        "        'diaBP', 'BMI', 'heartRate', 'glucose']].copy()\n",
        "y=df_1['TenYearCHD'].copy()"
      ],
      "metadata": {
        "id": "0CTyd2UwEyNM"
      },
      "execution_count": null,
      "outputs": []
    },
    {
      "cell_type": "code",
      "source": [
        "from sklearn.model_selection import train_test_split \n",
        "X_train, X_test, y_train, y_test = train_test_split( X,y , test_size = 0.2, random_state = 0) \n",
        "print(X_train.shape)\n",
        "print(X_test.shape)"
      ],
      "metadata": {
        "id": "koRDPRuzLQYQ"
      },
      "execution_count": null,
      "outputs": []
    },
    {
      "cell_type": "code",
      "source": [
        "y_train.value_counts()"
      ],
      "metadata": {
        "id": "Xkh17tklLWA3"
      },
      "execution_count": null,
      "outputs": []
    },
    {
      "cell_type": "code",
      "source": [
        "y_test.value_counts()"
      ],
      "metadata": {
        "id": "sZCAZka1LeQf"
      },
      "execution_count": null,
      "outputs": []
    },
    {
      "cell_type": "markdown",
      "source": [
        "##### What data splitting ratio have you used and why? "
      ],
      "metadata": {
        "id": "qjKvONjwE8ra"
      }
    },
    {
      "cell_type": "markdown",
      "source": [
        "Answer Here."
      ],
      "metadata": {
        "id": "Y2lJ8cobFDb_"
      }
    },
    {
      "cell_type": "markdown",
      "source": [
        "### 9. Handling Imbalanced Dataset"
      ],
      "metadata": {
        "id": "P1XJ9OREExlT"
      }
    },
    {
      "cell_type": "markdown",
      "source": [
        "##### Do you think the dataset is imbalanced? Explain Why."
      ],
      "metadata": {
        "id": "VFOzZv6IFROw"
      }
    },
    {
      "cell_type": "markdown",
      "source": [
        "Answer Here."
      ],
      "metadata": {
        "id": "GeKDIv7pFgcC"
      }
    },
    {
      "cell_type": "code",
      "source": [
        "# Handling Imbalanced Dataset (If needed)"
      ],
      "metadata": {
        "id": "nQsRhhZLFiDs"
      },
      "execution_count": null,
      "outputs": []
    },
    {
      "cell_type": "markdown",
      "source": [
        "##### What technique did you use to handle the imbalance dataset and why? (If needed to be balanced)"
      ],
      "metadata": {
        "id": "TIqpNgepFxVj"
      }
    },
    {
      "cell_type": "markdown",
      "source": [
        "Answer Here."
      ],
      "metadata": {
        "id": "qbet1HwdGDTz"
      }
    },
    {
      "cell_type": "markdown",
      "source": [
        "## ***7. ML Model Implementation***"
      ],
      "metadata": {
        "id": "VfCC591jGiD4"
      }
    },
    {
      "cell_type": "markdown",
      "source": [
        "### ML Model - 1 Logistic Regression"
      ],
      "metadata": {
        "id": "OB4l2ZhMeS1U"
      }
    },
    {
      "cell_type": "code",
      "source": [
        "# ML Model - 1 Implementation\n",
        "from sklearn.linear_model import LogisticRegression\n",
        "# Fit the Algorithm\n",
        "clf = LogisticRegression(fit_intercept=True, max_iter=10000)\n",
        "clf.fit(X_train, y_train)\n",
        "# Predict on the model\n",
        "train_class_preds = clf.predict(X_train)\n",
        "test_class_preds = clf.predict(X_test)"
      ],
      "metadata": {
        "id": "7ebyywQieS1U"
      },
      "execution_count": null,
      "outputs": []
    },
    {
      "cell_type": "code",
      "source": [
        "clf.coef_"
      ],
      "metadata": {
        "id": "_HptczYGNr9c"
      },
      "execution_count": null,
      "outputs": []
    },
    {
      "cell_type": "code",
      "source": [
        "clf.intercept_"
      ],
      "metadata": {
        "id": "5guZoZp-NxfW"
      },
      "execution_count": null,
      "outputs": []
    },
    {
      "cell_type": "markdown",
      "source": [
        "#### 1. Explain the ML Model used and it's performance using Evaluation metric Score Chart."
      ],
      "metadata": {
        "id": "ArJBuiUVfxKd"
      }
    },
    {
      "cell_type": "code",
      "source": [
        "# Visualizing evaluation Metric Score chart\n",
        "from sklearn.metrics import accuracy_score, confusion_matrix\n",
        "import seaborn as sns"
      ],
      "metadata": {
        "id": "rqD5ZohzfxKe"
      },
      "execution_count": null,
      "outputs": []
    },
    {
      "cell_type": "code",
      "source": [
        "# Get the accuracy scores\n",
        "train_accuracy = accuracy_score(train_class_preds,y_train)\n",
        "test_accuracy = accuracy_score(test_class_preds,y_test)\n",
        "\n",
        "print(\"The accuracy on train data is \", train_accuracy)\n",
        "print(\"The accuracy on test data is \", test_accuracy)"
      ],
      "metadata": {
        "id": "MWONCsDHN5nm"
      },
      "execution_count": null,
      "outputs": []
    },
    {
      "cell_type": "code",
      "source": [
        "# Get the confusion matrix for both train and test\n",
        "plt.figure(figsize=(5,3))\n",
        "labels = ['Negative', 'Positive']\n",
        "cm = confusion_matrix(y_train, train_class_preds)\n",
        "print(cm)\n",
        "\n",
        "ax= plt.subplot()\n",
        "sns.heatmap(cm, annot=True, ax = ax) #annot=True to annotate cells\n",
        "\n",
        "# labels, title and ticks\n",
        "ax.set_xlabel('Predicted labels')\n",
        "ax.set_ylabel('True labels')\n",
        "ax.set_title('Confusion Matrix')\n",
        "ax.xaxis.set_ticklabels(labels)\n",
        "ax.yaxis.set_ticklabels(labels)"
      ],
      "metadata": {
        "id": "vqeAuHqnOAe-"
      },
      "execution_count": null,
      "outputs": []
    },
    {
      "cell_type": "code",
      "source": [
        "# Get the confusion matrix for both train and test\n",
        "plt.figure(figsize=(5,3))\n",
        "labels = ['Retained', 'Churned']\n",
        "cm = confusion_matrix(y_test, test_class_preds)\n",
        "print(cm)\n",
        "\n",
        "ax= plt.subplot()\n",
        "sns.heatmap(cm, annot=True, ax = ax); #annot=True to annotate cells\n",
        "\n",
        "# labels, title and ticks\n",
        "ax.set_xlabel('Predicted labels')\n",
        "ax.set_ylabel('True labels')\n",
        "ax.set_title('Confusion Matrix')\n",
        "ax.xaxis.set_ticklabels(labels)\n",
        "ax.yaxis.set_ticklabels(labels)"
      ],
      "metadata": {
        "id": "iSX2jcUSOUzt"
      },
      "execution_count": null,
      "outputs": []
    },
    {
      "cell_type": "code",
      "source": [
        "y_lr_predict_pro=clf.predict_proba(X_test)[:,1]"
      ],
      "metadata": {
        "id": "TdE8k7TBOxIt"
      },
      "execution_count": null,
      "outputs": []
    },
    {
      "cell_type": "code",
      "source": [
        "fpr, tpr, thresholds = roc_curve(y_test, y_lr_predict_pro)"
      ],
      "metadata": {
        "id": "zVLemTUIOz3O"
      },
      "execution_count": null,
      "outputs": []
    },
    {
      "cell_type": "code",
      "source": [
        "roc_auc_score(y_test,y_lr_predict_pro)"
      ],
      "metadata": {
        "id": "aXtYJRc0O251"
      },
      "execution_count": null,
      "outputs": []
    },
    {
      "cell_type": "code",
      "source": [
        "plt.figure(figsize=(5,5))\n",
        "plt.plot([0,1],[0,1],'k--')\n",
        "plt.plot(fpr,tpr, label='Logistic Regression')\n",
        "plt.xlabel('False Positive Rate')\n",
        "plt.ylabel('True Positive Rate')\n",
        "plt.title('Logistic Regression ROC curve')\n",
        "plt.show()"
      ],
      "metadata": {
        "id": "3FAvoFekO31t"
      },
      "execution_count": null,
      "outputs": []
    },
    {
      "cell_type": "markdown",
      "source": [
        "#### 2. Cross- Validation & Hyperparameter Tuning"
      ],
      "metadata": {
        "id": "4qY1EAkEfxKe"
      }
    },
    {
      "cell_type": "markdown",
      "source": [
        "#### Handling Data Imbalalance"
      ],
      "metadata": {
        "id": "l3xt8QA5PQvl"
      }
    },
    {
      "cell_type": "code",
      "source": [
        "from imblearn.over_sampling import SMOTE\n",
        "smote = SMOTE(sampling_strategy='minority')\n",
        "X_sm, y_sm = smote.fit_resample(X, y)\n",
        "# X_sm, y_sm = smote.fit(X,y)"
      ],
      "metadata": {
        "id": "d5jnwyJuPWIl"
      },
      "execution_count": null,
      "outputs": []
    },
    {
      "cell_type": "code",
      "source": [
        "y_sm=pd.DataFrame(y_sm)"
      ],
      "metadata": {
        "id": "g9x6ynUT2tE9"
      },
      "execution_count": null,
      "outputs": []
    },
    {
      "cell_type": "code",
      "source": [
        "y_sm.value_counts()"
      ],
      "metadata": {
        "id": "vld2KD_p2wcs"
      },
      "execution_count": null,
      "outputs": []
    },
    {
      "cell_type": "code",
      "source": [
        "X_train, X_test, y_train, y_test = train_test_split( X_sm,y_sm , test_size = 0.2, random_state = 0) \n",
        "print(X_train.shape)\n",
        "print(X_test.shape)"
      ],
      "metadata": {
        "id": "GcxJNiDu3C5F"
      },
      "execution_count": null,
      "outputs": []
    },
    {
      "cell_type": "code",
      "source": [
        "y_train.value_counts()"
      ],
      "metadata": {
        "id": "6zE6eG8R3GHO"
      },
      "execution_count": null,
      "outputs": []
    },
    {
      "cell_type": "code",
      "source": [
        "y_test.value_counts()"
      ],
      "metadata": {
        "id": "GfesIxji3I0k"
      },
      "execution_count": null,
      "outputs": []
    },
    {
      "cell_type": "code",
      "source": [
        "# ML Model - 1 Implementation with hyperparameter optimization techniques (i.e., GridSearch CV, RandomSearch CV, Bayesian Optimization etc.)\n",
        "\n",
        "# Fit the Algorithm\n",
        "clf = LogisticRegression(fit_intercept=True, max_iter=10000)\n",
        "clf.fit(X_train, y_train)\n",
        "# Predict on the model\n",
        "# Get the predicted classes\n",
        "train_class_preds = clf.predict(X_train)\n",
        "test_class_preds = clf.predict(X_test)"
      ],
      "metadata": {
        "id": "Dy61ujd6fxKe"
      },
      "execution_count": null,
      "outputs": []
    },
    {
      "cell_type": "code",
      "source": [
        "# Get the accuracy scores\n",
        "train_accuracy = accuracy_score(train_class_preds,y_train)\n",
        "test_accuracy = accuracy_score(test_class_preds,y_test)\n",
        "\n",
        "print(\"The accuracy on train data is \", train_accuracy)\n",
        "print(\"The accuracy on test data is \", test_accuracy)"
      ],
      "metadata": {
        "id": "qPsSN4o-3XYr"
      },
      "execution_count": null,
      "outputs": []
    },
    {
      "cell_type": "code",
      "source": [
        "# Get the confusion matrix for both train and test\n",
        "\n",
        "cm = confusion_matrix(y_train, train_class_preds)\n",
        "print('Confusion Matrix for training Data')\n",
        "print(cm)\n",
        "cm = confusion_matrix(y_test, test_class_preds)\n",
        "print('Confusion Matrix for Test Data')\n",
        "print(cm)"
      ],
      "metadata": {
        "id": "Ty6O1wz93asM"
      },
      "execution_count": null,
      "outputs": []
    },
    {
      "cell_type": "code",
      "source": [
        "y_lr_predict_pro=clf.predict_proba(X_test)[:,1]\n",
        "fpr, tpr, thresholds = roc_curve(y_test, y_lr_predict_pro)"
      ],
      "metadata": {
        "id": "oMGywrQO3flD"
      },
      "execution_count": null,
      "outputs": []
    },
    {
      "cell_type": "code",
      "source": [
        "roc_auc_score(y_test,y_lr_predict_pro)"
      ],
      "metadata": {
        "id": "Oq5Wahki3jFb"
      },
      "execution_count": null,
      "outputs": []
    },
    {
      "cell_type": "code",
      "source": [
        "plt.figure(figsize=(5,5))\n",
        "plt.plot([0,1],[0,1],'k--')\n",
        "plt.plot(fpr,tpr, label='Logistic Regression')\n",
        "plt.xlabel('False Positive Rate')\n",
        "plt.ylabel('True Positive Rate')\n",
        "plt.title('Logistic Regression ROC curve')\n",
        "plt.show()"
      ],
      "metadata": {
        "id": "SP6tyLW03l5-"
      },
      "execution_count": null,
      "outputs": []
    },
    {
      "cell_type": "markdown",
      "source": [
        "##### Which hyperparameter optimization technique have you used and why?"
      ],
      "metadata": {
        "id": "PiV4Ypx8fxKe"
      }
    },
    {
      "cell_type": "markdown",
      "source": [
        "Answer Here."
      ],
      "metadata": {
        "id": "negyGRa7fxKf"
      }
    },
    {
      "cell_type": "markdown",
      "source": [
        "##### Have you seen any improvement? Note down the improvement with updates Evaluation metric Score Chart."
      ],
      "metadata": {
        "id": "TfvqoZmBfxKf"
      }
    },
    {
      "cell_type": "markdown",
      "source": [
        "Answer Here."
      ],
      "metadata": {
        "id": "OaLui8CcfxKf"
      }
    },
    {
      "cell_type": "markdown",
      "source": [
        "### ML Model - 2 Decision Tree Classifier"
      ],
      "metadata": {
        "id": "dJ2tPlVmpsJ0"
      }
    },
    {
      "cell_type": "code",
      "source": [
        "dt_scores = []\n",
        "for i in range(1, len(X.columns) + 1):\n",
        "    dt_classifier = DecisionTreeClassifier(max_features = i, random_state = 0)\n",
        "    dt_classifier.fit(X_train, y_train)\n",
        "    dt_scores.append(round(dt_classifier.score(X_test, y_test),2))"
      ],
      "metadata": {
        "id": "RmOEDV4U6YCo"
      },
      "execution_count": null,
      "outputs": []
    },
    {
      "cell_type": "markdown",
      "source": [
        "#### 1. Explain the ML Model used and it's performance using Evaluation metric Score Chart."
      ],
      "metadata": {
        "id": "JWYfwnehpsJ1"
      }
    },
    {
      "cell_type": "code",
      "source": [
        "# Visualizing evaluation Metric Score chart\n",
        "plt.plot([i for i in range(1, len(X.columns) + 1)], dt_scores, color = 'green')\n",
        "for i in range(1, len(X.columns) + 1):\n",
        "    plt.text(i, dt_scores[i-1], (i, dt_scores[i-1]))\n",
        "plt.xticks([i for i in range(1, len(X.columns) + 1)])\n",
        "plt.xlabel('Max features')\n",
        "plt.ylabel('Scores')\n",
        "plt.title('Decision Tree Classifier scores for different number of maximum features')"
      ],
      "metadata": {
        "id": "yEl-hgQWpsJ1"
      },
      "execution_count": null,
      "outputs": []
    },
    {
      "cell_type": "code",
      "source": [
        "y_dt_predict_pro=dt_classifier.predict_proba(X_test)[:,1]\n",
        "fpr, tpr, thresholds = roc_curve(y_test, y_dt_predict_pro)\n",
        "roc_auc_score(y_test,y_dt_predict_pro)"
      ],
      "metadata": {
        "id": "S_LIVN_M6vlP"
      },
      "execution_count": null,
      "outputs": []
    },
    {
      "cell_type": "code",
      "source": [
        "plt.figure(figsize=(5,5))\n",
        "plt.plot([0,1],[0,1],'k--')\n",
        "plt.plot(fpr,tpr, label='Decision Tree')\n",
        "plt.xlabel('False Positive Rate')\n",
        "plt.ylabel('True Positive Rate')\n",
        "plt.title('Decision tree ROC curve')\n",
        "plt.show()"
      ],
      "metadata": {
        "id": "wKEvqYlv63uQ"
      },
      "execution_count": null,
      "outputs": []
    },
    {
      "cell_type": "code",
      "source": [
        "features = X.columns\n",
        "importances = dt_classifier.feature_importances_\n",
        "indices = np.argsort(importances)"
      ],
      "metadata": {
        "id": "TbpANhBX7CYw"
      },
      "execution_count": null,
      "outputs": []
    },
    {
      "cell_type": "code",
      "source": [
        "plt.figure(figsize=(12,9))\n",
        "plt.title('Feature Importance')\n",
        "plt.barh(range(len(indices)), importances[indices], color='red', align='center')\n",
        "plt.yticks(range(len(indices)), [features[i] for i in indices])\n",
        "plt.xlabel('Relative Importance')\n",
        "plt.show()"
      ],
      "metadata": {
        "id": "4gtpvVIM7Fxa"
      },
      "execution_count": null,
      "outputs": []
    },
    {
      "cell_type": "code",
      "source": [
        "#Visualizing a Decision Tree\n",
        "from sklearn.tree import plot_tree, export_text\n",
        "plt.figure(figsize =(80,20))\n",
        "\n",
        "plot_tree(dt_classifier, feature_names=X_train.columns, max_depth=3, filled=True);"
      ],
      "metadata": {
        "id": "TgpSbNSDJUye"
      },
      "execution_count": null,
      "outputs": []
    },
    {
      "cell_type": "markdown",
      "source": [
        "#### 2. Cross- Validation & Hyperparameter Tuning"
      ],
      "metadata": {
        "id": "-jK_YjpMpsJ2"
      }
    },
    {
      "cell_type": "markdown",
      "source": [
        "#### Max Depth"
      ],
      "metadata": {
        "id": "WAtrHediOASJ"
      }
    },
    {
      "cell_type": "code",
      "source": [
        "max_depth=dt_classifier.tree_.max_depth\n",
        "max_depth"
      ],
      "metadata": {
        "id": "Rjc6X6WmOaA2"
      },
      "execution_count": null,
      "outputs": []
    },
    {
      "cell_type": "code",
      "source": [
        "# ML Model - 1 Implementation with hyperparameter optimization techniques (i.e., GridSearch CV, RandomSearch CV, Bayesian Optimization etc.)\n",
        "for max_d in range(1,21):\n",
        "  model = DecisionTreeClassifier(max_depth=max_d, random_state=42)\n",
        "  # Fit the Algorithm\n",
        "  model.fit(X_train, y_train)\n",
        "  # Predict on the model\n",
        "  print('The Training Accuracy for max_depth {} is:'.format(max_d), model.score(X_train, y_train))\n",
        "  print('The Validation Accuracy for max_depth {} is:'.format(max_d), model.score(X_test,y_test))\n",
        "  print('')"
      ],
      "metadata": {
        "id": "Dn0EOfS6psJ2"
      },
      "execution_count": null,
      "outputs": []
    },
    {
      "cell_type": "code",
      "source": [
        "training_accuracy = []\n",
        "validation_accuracy = []\n",
        "for max_d in range(1,25):\n",
        "    model = DecisionTreeClassifier(max_depth=max_d, random_state=42)\n",
        "    model.fit(X_train, y_train)\n",
        "    training_accuracy.append(round(model.score(X_train, y_train),2))\n",
        "    validation_accuracy.append(round(model.score(X_test, y_test),2))"
      ],
      "metadata": {
        "id": "8BPBYvjTQYLb"
      },
      "execution_count": null,
      "outputs": []
    },
    {
      "cell_type": "code",
      "source": [
        "plt.plot([i for i in range(1, max_depth + 1)], training_accuracy,validation_accuracy)\n",
        "for i in range(1, max_depth + 1):\n",
        "    plt.text(i, training_accuracy[i-1], (i, training_accuracy[i-1]))\n",
        "for i in range(1, max_depth + 1):\n",
        "    plt.text(i, validation_accuracy[i-1], (i, validation_accuracy[i-1]))\n",
        "plt.xticks([i for i in range(1, max_depth + 1)])\n",
        "plt.xlabel('Max depth')\n",
        "plt.ylabel('Scores')\n",
        "plt.title('Decision Tree Classifier scores for different number of maximum depth')"
      ],
      "metadata": {
        "id": "Q6MrYkwvDDwf"
      },
      "execution_count": null,
      "outputs": []
    },
    {
      "cell_type": "markdown",
      "source": [
        "##### Which hyperparameter optimization technique have you used and why?"
      ],
      "metadata": {
        "id": "HAih1iBOpsJ2"
      }
    },
    {
      "cell_type": "markdown",
      "source": [
        "Answer Here."
      ],
      "metadata": {
        "id": "9kBgjYcdpsJ2"
      }
    },
    {
      "cell_type": "markdown",
      "source": [
        "##### Have you seen any improvement? Note down the improvement with updates Evaluation metric Score Chart."
      ],
      "metadata": {
        "id": "zVGeBEFhpsJ2"
      }
    },
    {
      "cell_type": "markdown",
      "source": [
        "Answer Here."
      ],
      "metadata": {
        "id": "74yRdG6UpsJ3"
      }
    },
    {
      "cell_type": "markdown",
      "source": [
        "#### 3. Explain each evaluation metric's indication towards business and the business impact pf the ML model used."
      ],
      "metadata": {
        "id": "bmKjuQ-FpsJ3"
      }
    },
    {
      "cell_type": "markdown",
      "source": [
        "Answer Here."
      ],
      "metadata": {
        "id": "BDKtOrBQpsJ3"
      }
    },
    {
      "cell_type": "markdown",
      "source": [
        "##### Max leaf nodes"
      ],
      "metadata": {
        "id": "vmjE_0HLHLJh"
      }
    },
    {
      "cell_type": "code",
      "source": [
        "model1=DecisionTreeClassifier(max_leaf_nodes=30,random_state=42)\n",
        "model1.fit(X_train,y_train)"
      ],
      "metadata": {
        "id": "Ze3_y3ysHUCk"
      },
      "execution_count": null,
      "outputs": []
    },
    {
      "cell_type": "code",
      "source": [
        "model1.score(X_train,y_train)"
      ],
      "metadata": {
        "id": "m--RqE7pJjty"
      },
      "execution_count": null,
      "outputs": []
    },
    {
      "cell_type": "code",
      "source": [
        "model1.score(X_test,y_test)"
      ],
      "metadata": {
        "id": "EP4eupoVJsaq"
      },
      "execution_count": null,
      "outputs": []
    },
    {
      "cell_type": "code",
      "source": [
        "model1.tree_.max_depth"
      ],
      "metadata": {
        "id": "6QOdsBLUItlh"
      },
      "execution_count": null,
      "outputs": []
    },
    {
      "cell_type": "markdown",
      "source": [
        "### ML Model - 3 Random Forest"
      ],
      "metadata": {
        "id": "Fze-IPXLpx6K"
      }
    },
    {
      "cell_type": "code",
      "source": [
        "# ML Model - 3 Implementation\n",
        "classifier = RandomForestClassifier() # For GBM, use GradientBoostingClassifier()\n",
        "grid_values = {'n_estimators':[50, 65, 80, 95,120], 'max_depth':[3, 5, 7,9,12]}\n",
        "GSclassifier = GridSearchCV(classifier, param_grid = grid_values, scoring = 'roc_auc', cv=5)\n",
        "\n",
        "# Fit the object to train dataset\n",
        "GSclassifier.fit(X_train, y_train)\n",
        "# Fit the Algorithm\n",
        "bestvalues=GSclassifier.best_params_\n",
        "GSclassifier.best_params_\n",
        "# Predict on the model\n",
        "classifier = RandomForestClassifier(max_depth=bestvalues['max_depth'],n_estimators=bestvalues['n_estimators']) # For GBM, use GradientBoostingClassifier()\n",
        "classifier.fit(X_train, y_train)"
      ],
      "metadata": {
        "id": "FFrSXAtrpx6M"
      },
      "execution_count": null,
      "outputs": []
    },
    {
      "cell_type": "code",
      "source": [
        "y_train_preds_rf =  classifier.predict(X_train)\n",
        "y_test_preds_rf= classifier.predict(X_test)"
      ],
      "metadata": {
        "id": "SnhoLOShH4p-"
      },
      "execution_count": null,
      "outputs": []
    },
    {
      "cell_type": "code",
      "source": [
        "# Obtain accuracy on train set\n",
        "accuracy_score(y_train,y_train_preds_rf)"
      ],
      "metadata": {
        "id": "6S35HGQHH9C9"
      },
      "execution_count": null,
      "outputs": []
    },
    {
      "cell_type": "code",
      "source": [
        "# Obtain accuracy on test set\n",
        "accuracy_score(y_test,y_test_preds_rf)"
      ],
      "metadata": {
        "id": "WV8XIju0H_2Q"
      },
      "execution_count": null,
      "outputs": []
    },
    {
      "cell_type": "code",
      "source": [
        "y_rf_predict_pro=classifier.predict_proba(X_test)[:,1]\n",
        "fpr, tpr, thresholds = roc_curve(y_test, y_rf_predict_pro)"
      ],
      "metadata": {
        "id": "B1034cFDIEoO"
      },
      "execution_count": null,
      "outputs": []
    },
    {
      "cell_type": "markdown",
      "source": [
        "#### 1. Explain the ML Model used and it's performance using Evaluation metric Score Chart."
      ],
      "metadata": {
        "id": "7AN1z2sKpx6M"
      }
    },
    {
      "cell_type": "code",
      "source": [
        "# Visualizing evaluation Metric Score chart\n",
        "roc_auc_score(y_test,y_rf_predict_pro)"
      ],
      "metadata": {
        "id": "xIY4lxxGpx6M"
      },
      "execution_count": null,
      "outputs": []
    },
    {
      "cell_type": "code",
      "source": [
        "plt.figure(figsize=(5,5))\n",
        "plt.plot([0,1],[0,1],'k--')\n",
        "plt.plot(fpr,tpr, label='Random Forest')\n",
        "plt.xlabel('False Positive Rate')\n",
        "plt.ylabel('True Positive Rate')\n",
        "plt.title('Random Forest ROC curve')\n",
        "plt.show()"
      ],
      "metadata": {
        "id": "NXvIWSUzIaut"
      },
      "execution_count": null,
      "outputs": []
    },
    {
      "cell_type": "code",
      "source": [
        "features = X.columns\n",
        "importances = classifier.feature_importances_\n",
        "indices = np.argsort(importances)"
      ],
      "metadata": {
        "id": "ucNuE14OIp6u"
      },
      "execution_count": null,
      "outputs": []
    },
    {
      "cell_type": "code",
      "source": [
        "plt.figure(figsize=(12,9))\n",
        "plt.title('Feature Importance')\n",
        "plt.barh(range(len(indices)), importances[indices], color='red', align='center')\n",
        "plt.yticks(range(len(indices)), [features[i] for i in indices])\n",
        "plt.xlabel('Relative Importance')\n",
        "plt.show()"
      ],
      "metadata": {
        "id": "IGkAwNirItJX"
      },
      "execution_count": null,
      "outputs": []
    },
    {
      "cell_type": "markdown",
      "source": [
        "#### 2. Cross- Validation & Hyperparameter Tuning"
      ],
      "metadata": {
        "id": "9PIHJqyupx6M"
      }
    },
    {
      "cell_type": "code",
      "source": [
        "# ML Model - 3 Implementation with hyperparameter optimization techniques (i.e., GridSearch CV, RandomSearch CV, Bayesian Optimization etc.)\n",
        "\n",
        "# Fit the Algorithm\n",
        "\n",
        "# Predict on the model"
      ],
      "metadata": {
        "id": "eSVXuaSKpx6M"
      },
      "execution_count": null,
      "outputs": []
    },
    {
      "cell_type": "markdown",
      "source": [
        "##### Which hyperparameter optimization technique have you used and why?"
      ],
      "metadata": {
        "id": "_-qAgymDpx6N"
      }
    },
    {
      "cell_type": "markdown",
      "source": [
        "Answer Here."
      ],
      "metadata": {
        "id": "lQMffxkwpx6N"
      }
    },
    {
      "cell_type": "markdown",
      "source": [
        "##### Have you seen any improvement? Note down the improvement with updates Evaluation metric Score Chart."
      ],
      "metadata": {
        "id": "Z-hykwinpx6N"
      }
    },
    {
      "cell_type": "markdown",
      "source": [
        "Answer Here."
      ],
      "metadata": {
        "id": "MzVzZC6opx6N"
      }
    },
    {
      "cell_type": "markdown",
      "source": [
        "### 1. Which Evaluation metrics did you consider for a positive business impact and why?"
      ],
      "metadata": {
        "id": "h_CCil-SKHpo"
      }
    },
    {
      "cell_type": "markdown",
      "source": [
        "Answer Here."
      ],
      "metadata": {
        "id": "jHVz9hHDKFms"
      }
    },
    {
      "cell_type": "markdown",
      "source": [
        "### 2. Which ML model did you choose from the above created models as your final prediction model and why?"
      ],
      "metadata": {
        "id": "cBFFvTBNJzUa"
      }
    },
    {
      "cell_type": "markdown",
      "source": [
        "Answer Here."
      ],
      "metadata": {
        "id": "6ksF5Q1LKTVm"
      }
    },
    {
      "cell_type": "markdown",
      "source": [
        "### 3. Explain the model which you have used and the feature importance using any model explainability tool?"
      ],
      "metadata": {
        "id": "HvGl1hHyA_VK"
      }
    },
    {
      "cell_type": "markdown",
      "source": [
        "Answer Here."
      ],
      "metadata": {
        "id": "YnvVTiIxBL-C"
      }
    },
    {
      "cell_type": "markdown",
      "source": [
        "## ***8.*** ***Future Work (Optional)***"
      ],
      "metadata": {
        "id": "EyNgTHvd2WFk"
      }
    },
    {
      "cell_type": "markdown",
      "source": [
        "### 1. Save the best performing ml model in a pickle file or joblib file format for deployment process.\n"
      ],
      "metadata": {
        "id": "KH5McJBi2d8v"
      }
    },
    {
      "cell_type": "code",
      "source": [
        "# Save the File"
      ],
      "metadata": {
        "id": "bQIANRl32f4J"
      },
      "execution_count": null,
      "outputs": []
    },
    {
      "cell_type": "markdown",
      "source": [
        "### 2. Again Load the saved model file and try to predict unseen data for a sanity check.\n"
      ],
      "metadata": {
        "id": "iW_Lq9qf2h6X"
      }
    },
    {
      "cell_type": "code",
      "source": [
        "# Load the File and predict unseen data."
      ],
      "metadata": {
        "id": "oEXk9ydD2nVC"
      },
      "execution_count": null,
      "outputs": []
    },
    {
      "cell_type": "markdown",
      "source": [
        "### ***Congrats! Your model is successfully created and ready for deployment on a live server for a real user interaction !!!***"
      ],
      "metadata": {
        "id": "-Kee-DAl2viO"
      }
    },
    {
      "cell_type": "markdown",
      "source": [
        "# **Conclusion**"
      ],
      "metadata": {
        "id": "gCX9965dhzqZ"
      }
    },
    {
      "cell_type": "markdown",
      "source": [
        "Supervised machine learning model using cross-validation and hyper-parameter tuning is tested successfully for predicting the stock closing price of Yes Bank. The stepwise process includes importing required libraries, reading the data, exploring the data, statistical evaluation, Data cleaning, EDA, Data wrangling, data visualization, defining the features etc., Above process is followed for identifying the solution to the problem of predicting the ten-year coronary heart disease (CHD). The Logistic regression, decision tree and random forest models are implemented successfully. The performance matrix reflects the efficiency of model."
      ],
      "metadata": {
        "id": "eozzAlz9Yq7N"
      }
    },
    {
      "cell_type": "markdown",
      "source": [
        "### ***Hurrah! You have successfully completed your Machine Learning Capstone Project !!!***"
      ],
      "metadata": {
        "id": "gIfDvo9L0UH2"
      }
    }
  ]
}